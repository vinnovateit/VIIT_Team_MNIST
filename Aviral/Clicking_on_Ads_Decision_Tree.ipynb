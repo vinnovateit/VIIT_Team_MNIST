{
 "cells": [
  {
   "cell_type": "markdown",
   "metadata": {},
   "source": [
    "# **How Likely will a user click an ad displayed on a page they are visiting?**"
   ]
  },
  {
   "cell_type": "markdown",
   "metadata": {},
   "source": [
    "### **Importing libraries and dataset**"
   ]
  },
  {
   "cell_type": "code",
   "execution_count": 2,
   "metadata": {},
   "outputs": [],
   "source": [
    "import numpy as np\n",
    "import pandas as pd\n",
    "import matplotlib.pyplot as plt\n",
    "import seaborn as sns\n",
    "import os"
   ]
  },
  {
   "cell_type": "code",
   "execution_count": 3,
   "metadata": {
    "scrolled": true
   },
   "outputs": [
    {
     "data": {
      "text/html": [
       "<div>\n",
       "<style scoped>\n",
       "    .dataframe tbody tr th:only-of-type {\n",
       "        vertical-align: middle;\n",
       "    }\n",
       "\n",
       "    .dataframe tbody tr th {\n",
       "        vertical-align: top;\n",
       "    }\n",
       "\n",
       "    .dataframe thead th {\n",
       "        text-align: right;\n",
       "    }\n",
       "</style>\n",
       "<table border=\"1\" class=\"dataframe\">\n",
       "  <thead>\n",
       "    <tr style=\"text-align: right;\">\n",
       "      <th></th>\n",
       "      <th>Unnamed: 0</th>\n",
       "      <th>id</th>\n",
       "      <th>click</th>\n",
       "      <th>hour</th>\n",
       "      <th>C1</th>\n",
       "      <th>banner_pos</th>\n",
       "      <th>site_id</th>\n",
       "      <th>site_domain</th>\n",
       "      <th>site_category</th>\n",
       "      <th>app_id</th>\n",
       "      <th>...</th>\n",
       "      <th>device_type</th>\n",
       "      <th>device_conn_type</th>\n",
       "      <th>C14</th>\n",
       "      <th>C15</th>\n",
       "      <th>C16</th>\n",
       "      <th>C17</th>\n",
       "      <th>C18</th>\n",
       "      <th>C19</th>\n",
       "      <th>C20</th>\n",
       "      <th>C21</th>\n",
       "    </tr>\n",
       "  </thead>\n",
       "  <tbody>\n",
       "    <tr>\n",
       "      <th>0</th>\n",
       "      <td>0</td>\n",
       "      <td>1.000009e+18</td>\n",
       "      <td>0</td>\n",
       "      <td>14102100</td>\n",
       "      <td>1005</td>\n",
       "      <td>0</td>\n",
       "      <td>1fbe01fe</td>\n",
       "      <td>f3845767</td>\n",
       "      <td>28905ebd</td>\n",
       "      <td>ecad2386</td>\n",
       "      <td>...</td>\n",
       "      <td>1</td>\n",
       "      <td>2</td>\n",
       "      <td>15706</td>\n",
       "      <td>320</td>\n",
       "      <td>50</td>\n",
       "      <td>1722</td>\n",
       "      <td>0</td>\n",
       "      <td>35</td>\n",
       "      <td>-1</td>\n",
       "      <td>79</td>\n",
       "    </tr>\n",
       "    <tr>\n",
       "      <th>1</th>\n",
       "      <td>1</td>\n",
       "      <td>1.000017e+19</td>\n",
       "      <td>0</td>\n",
       "      <td>14102100</td>\n",
       "      <td>1005</td>\n",
       "      <td>0</td>\n",
       "      <td>1fbe01fe</td>\n",
       "      <td>f3845767</td>\n",
       "      <td>28905ebd</td>\n",
       "      <td>ecad2386</td>\n",
       "      <td>...</td>\n",
       "      <td>1</td>\n",
       "      <td>0</td>\n",
       "      <td>15704</td>\n",
       "      <td>320</td>\n",
       "      <td>50</td>\n",
       "      <td>1722</td>\n",
       "      <td>0</td>\n",
       "      <td>35</td>\n",
       "      <td>100084</td>\n",
       "      <td>79</td>\n",
       "    </tr>\n",
       "    <tr>\n",
       "      <th>2</th>\n",
       "      <td>2</td>\n",
       "      <td>1.000037e+19</td>\n",
       "      <td>0</td>\n",
       "      <td>14102100</td>\n",
       "      <td>1005</td>\n",
       "      <td>0</td>\n",
       "      <td>1fbe01fe</td>\n",
       "      <td>f3845767</td>\n",
       "      <td>28905ebd</td>\n",
       "      <td>ecad2386</td>\n",
       "      <td>...</td>\n",
       "      <td>1</td>\n",
       "      <td>0</td>\n",
       "      <td>15704</td>\n",
       "      <td>320</td>\n",
       "      <td>50</td>\n",
       "      <td>1722</td>\n",
       "      <td>0</td>\n",
       "      <td>35</td>\n",
       "      <td>100084</td>\n",
       "      <td>79</td>\n",
       "    </tr>\n",
       "    <tr>\n",
       "      <th>3</th>\n",
       "      <td>3</td>\n",
       "      <td>1.000064e+19</td>\n",
       "      <td>0</td>\n",
       "      <td>14102100</td>\n",
       "      <td>1005</td>\n",
       "      <td>0</td>\n",
       "      <td>1fbe01fe</td>\n",
       "      <td>f3845767</td>\n",
       "      <td>28905ebd</td>\n",
       "      <td>ecad2386</td>\n",
       "      <td>...</td>\n",
       "      <td>1</td>\n",
       "      <td>0</td>\n",
       "      <td>15706</td>\n",
       "      <td>320</td>\n",
       "      <td>50</td>\n",
       "      <td>1722</td>\n",
       "      <td>0</td>\n",
       "      <td>35</td>\n",
       "      <td>100084</td>\n",
       "      <td>79</td>\n",
       "    </tr>\n",
       "    <tr>\n",
       "      <th>4</th>\n",
       "      <td>4</td>\n",
       "      <td>1.000068e+19</td>\n",
       "      <td>0</td>\n",
       "      <td>14102100</td>\n",
       "      <td>1005</td>\n",
       "      <td>1</td>\n",
       "      <td>fe8cc448</td>\n",
       "      <td>9166c161</td>\n",
       "      <td>0569f928</td>\n",
       "      <td>ecad2386</td>\n",
       "      <td>...</td>\n",
       "      <td>1</td>\n",
       "      <td>0</td>\n",
       "      <td>18993</td>\n",
       "      <td>320</td>\n",
       "      <td>50</td>\n",
       "      <td>2161</td>\n",
       "      <td>0</td>\n",
       "      <td>35</td>\n",
       "      <td>-1</td>\n",
       "      <td>157</td>\n",
       "    </tr>\n",
       "    <tr>\n",
       "      <th>...</th>\n",
       "      <td>...</td>\n",
       "      <td>...</td>\n",
       "      <td>...</td>\n",
       "      <td>...</td>\n",
       "      <td>...</td>\n",
       "      <td>...</td>\n",
       "      <td>...</td>\n",
       "      <td>...</td>\n",
       "      <td>...</td>\n",
       "      <td>...</td>\n",
       "      <td>...</td>\n",
       "      <td>...</td>\n",
       "      <td>...</td>\n",
       "      <td>...</td>\n",
       "      <td>...</td>\n",
       "      <td>...</td>\n",
       "      <td>...</td>\n",
       "      <td>...</td>\n",
       "      <td>...</td>\n",
       "      <td>...</td>\n",
       "      <td>...</td>\n",
       "    </tr>\n",
       "    <tr>\n",
       "      <th>499995</th>\n",
       "      <td>499995</td>\n",
       "      <td>1.311196e+19</td>\n",
       "      <td>0</td>\n",
       "      <td>14102103</td>\n",
       "      <td>1005</td>\n",
       "      <td>0</td>\n",
       "      <td>85f751fd</td>\n",
       "      <td>c4e18dd6</td>\n",
       "      <td>50e219e0</td>\n",
       "      <td>53de0284</td>\n",
       "      <td>...</td>\n",
       "      <td>1</td>\n",
       "      <td>0</td>\n",
       "      <td>21611</td>\n",
       "      <td>320</td>\n",
       "      <td>50</td>\n",
       "      <td>2480</td>\n",
       "      <td>3</td>\n",
       "      <td>299</td>\n",
       "      <td>100111</td>\n",
       "      <td>61</td>\n",
       "    </tr>\n",
       "    <tr>\n",
       "      <th>499996</th>\n",
       "      <td>499996</td>\n",
       "      <td>1.311197e+19</td>\n",
       "      <td>0</td>\n",
       "      <td>14102103</td>\n",
       "      <td>1005</td>\n",
       "      <td>1</td>\n",
       "      <td>d9750ee7</td>\n",
       "      <td>98572c79</td>\n",
       "      <td>f028772b</td>\n",
       "      <td>ecad2386</td>\n",
       "      <td>...</td>\n",
       "      <td>1</td>\n",
       "      <td>0</td>\n",
       "      <td>17614</td>\n",
       "      <td>320</td>\n",
       "      <td>50</td>\n",
       "      <td>1993</td>\n",
       "      <td>2</td>\n",
       "      <td>1063</td>\n",
       "      <td>-1</td>\n",
       "      <td>33</td>\n",
       "    </tr>\n",
       "    <tr>\n",
       "      <th>499997</th>\n",
       "      <td>499997</td>\n",
       "      <td>1.311202e+19</td>\n",
       "      <td>0</td>\n",
       "      <td>14102103</td>\n",
       "      <td>1005</td>\n",
       "      <td>0</td>\n",
       "      <td>85f751fd</td>\n",
       "      <td>c4e18dd6</td>\n",
       "      <td>50e219e0</td>\n",
       "      <td>e2fcccd2</td>\n",
       "      <td>...</td>\n",
       "      <td>1</td>\n",
       "      <td>0</td>\n",
       "      <td>20633</td>\n",
       "      <td>320</td>\n",
       "      <td>50</td>\n",
       "      <td>2374</td>\n",
       "      <td>3</td>\n",
       "      <td>39</td>\n",
       "      <td>-1</td>\n",
       "      <td>23</td>\n",
       "    </tr>\n",
       "    <tr>\n",
       "      <th>499998</th>\n",
       "      <td>499998</td>\n",
       "      <td>1.311205e+19</td>\n",
       "      <td>0</td>\n",
       "      <td>14102103</td>\n",
       "      <td>1005</td>\n",
       "      <td>1</td>\n",
       "      <td>5b4d2eda</td>\n",
       "      <td>16a36ef3</td>\n",
       "      <td>f028772b</td>\n",
       "      <td>ecad2386</td>\n",
       "      <td>...</td>\n",
       "      <td>1</td>\n",
       "      <td>0</td>\n",
       "      <td>20355</td>\n",
       "      <td>216</td>\n",
       "      <td>36</td>\n",
       "      <td>2333</td>\n",
       "      <td>0</td>\n",
       "      <td>39</td>\n",
       "      <td>100077</td>\n",
       "      <td>157</td>\n",
       "    </tr>\n",
       "    <tr>\n",
       "      <th>499999</th>\n",
       "      <td>499999</td>\n",
       "      <td>1.311207e+18</td>\n",
       "      <td>1</td>\n",
       "      <td>14102103</td>\n",
       "      <td>1005</td>\n",
       "      <td>0</td>\n",
       "      <td>2328ee8e</td>\n",
       "      <td>7804dea6</td>\n",
       "      <td>f028772b</td>\n",
       "      <td>ecad2386</td>\n",
       "      <td>...</td>\n",
       "      <td>1</td>\n",
       "      <td>0</td>\n",
       "      <td>6563</td>\n",
       "      <td>320</td>\n",
       "      <td>50</td>\n",
       "      <td>572</td>\n",
       "      <td>2</td>\n",
       "      <td>39</td>\n",
       "      <td>-1</td>\n",
       "      <td>32</td>\n",
       "    </tr>\n",
       "  </tbody>\n",
       "</table>\n",
       "<p>500000 rows × 25 columns</p>\n",
       "</div>"
      ],
      "text/plain": [
       "        Unnamed: 0            id  click      hour    C1  banner_pos   site_id  \\\n",
       "0                0  1.000009e+18      0  14102100  1005           0  1fbe01fe   \n",
       "1                1  1.000017e+19      0  14102100  1005           0  1fbe01fe   \n",
       "2                2  1.000037e+19      0  14102100  1005           0  1fbe01fe   \n",
       "3                3  1.000064e+19      0  14102100  1005           0  1fbe01fe   \n",
       "4                4  1.000068e+19      0  14102100  1005           1  fe8cc448   \n",
       "...            ...           ...    ...       ...   ...         ...       ...   \n",
       "499995      499995  1.311196e+19      0  14102103  1005           0  85f751fd   \n",
       "499996      499996  1.311197e+19      0  14102103  1005           1  d9750ee7   \n",
       "499997      499997  1.311202e+19      0  14102103  1005           0  85f751fd   \n",
       "499998      499998  1.311205e+19      0  14102103  1005           1  5b4d2eda   \n",
       "499999      499999  1.311207e+18      1  14102103  1005           0  2328ee8e   \n",
       "\n",
       "       site_domain site_category    app_id  ... device_type device_conn_type  \\\n",
       "0         f3845767      28905ebd  ecad2386  ...           1                2   \n",
       "1         f3845767      28905ebd  ecad2386  ...           1                0   \n",
       "2         f3845767      28905ebd  ecad2386  ...           1                0   \n",
       "3         f3845767      28905ebd  ecad2386  ...           1                0   \n",
       "4         9166c161      0569f928  ecad2386  ...           1                0   \n",
       "...            ...           ...       ...  ...         ...              ...   \n",
       "499995    c4e18dd6      50e219e0  53de0284  ...           1                0   \n",
       "499996    98572c79      f028772b  ecad2386  ...           1                0   \n",
       "499997    c4e18dd6      50e219e0  e2fcccd2  ...           1                0   \n",
       "499998    16a36ef3      f028772b  ecad2386  ...           1                0   \n",
       "499999    7804dea6      f028772b  ecad2386  ...           1                0   \n",
       "\n",
       "          C14  C15 C16   C17  C18   C19     C20  C21  \n",
       "0       15706  320  50  1722    0    35      -1   79  \n",
       "1       15704  320  50  1722    0    35  100084   79  \n",
       "2       15704  320  50  1722    0    35  100084   79  \n",
       "3       15706  320  50  1722    0    35  100084   79  \n",
       "4       18993  320  50  2161    0    35      -1  157  \n",
       "...       ...  ...  ..   ...  ...   ...     ...  ...  \n",
       "499995  21611  320  50  2480    3   299  100111   61  \n",
       "499996  17614  320  50  1993    2  1063      -1   33  \n",
       "499997  20633  320  50  2374    3    39      -1   23  \n",
       "499998  20355  216  36  2333    0    39  100077  157  \n",
       "499999   6563  320  50   572    2    39      -1   32  \n",
       "\n",
       "[500000 rows x 25 columns]"
      ]
     },
     "execution_count": 3,
     "metadata": {},
     "output_type": "execute_result"
    }
   ],
   "source": [
    "dataset=pd.read_csv(r'C:\\Users\\Aviral.HP-PAVILION\\Desktop\\Machine Learning\\Projects\\Clicking_an_Ad\\data.csv')\n",
    "dataset"
   ]
  },
  {
   "cell_type": "markdown",
   "metadata": {},
   "source": [
    "Here, **click** is the dependent attribute while all the other attributes are independent.\n",
    "**site_id, site_domain, site_category, app_id, app_domain, app_category, device_id, device_ip, device_model** are categorical data which needs to be encoded to train the model.\n",
    "**hour** should be converted to DateTime type."
   ]
  },
  {
   "cell_type": "markdown",
   "metadata": {},
   "source": [
    "### **EDA**"
   ]
  },
  {
   "cell_type": "code",
   "execution_count": 4,
   "metadata": {},
   "outputs": [
    {
     "name": "stdout",
     "output_type": "stream",
     "text": [
      "<class 'pandas.core.frame.DataFrame'>\n",
      "RangeIndex: 500000 entries, 0 to 499999\n",
      "Data columns (total 25 columns):\n",
      " #   Column            Non-Null Count   Dtype  \n",
      "---  ------            --------------   -----  \n",
      " 0   Unnamed: 0        500000 non-null  int64  \n",
      " 1   id                500000 non-null  float64\n",
      " 2   click             500000 non-null  int64  \n",
      " 3   hour              500000 non-null  int64  \n",
      " 4   C1                500000 non-null  int64  \n",
      " 5   banner_pos        500000 non-null  int64  \n",
      " 6   site_id           500000 non-null  object \n",
      " 7   site_domain       500000 non-null  object \n",
      " 8   site_category     500000 non-null  object \n",
      " 9   app_id            500000 non-null  object \n",
      " 10  app_domain        500000 non-null  object \n",
      " 11  app_category      500000 non-null  object \n",
      " 12  device_id         500000 non-null  object \n",
      " 13  device_ip         500000 non-null  object \n",
      " 14  device_model      500000 non-null  object \n",
      " 15  device_type       500000 non-null  int64  \n",
      " 16  device_conn_type  500000 non-null  int64  \n",
      " 17  C14               500000 non-null  int64  \n",
      " 18  C15               500000 non-null  int64  \n",
      " 19  C16               500000 non-null  int64  \n",
      " 20  C17               500000 non-null  int64  \n",
      " 21  C18               500000 non-null  int64  \n",
      " 22  C19               500000 non-null  int64  \n",
      " 23  C20               500000 non-null  int64  \n",
      " 24  C21               500000 non-null  int64  \n",
      "dtypes: float64(1), int64(15), object(9)\n",
      "memory usage: 95.4+ MB\n"
     ]
    }
   ],
   "source": [
    "dataset.info()"
   ]
  },
  {
   "cell_type": "markdown",
   "metadata": {},
   "source": [
    "No null values."
   ]
  },
  {
   "cell_type": "code",
   "execution_count": 5,
   "metadata": {},
   "outputs": [
    {
     "data": {
      "text/plain": [
       "Unnamed: 0          0\n",
       "id                  0\n",
       "click               0\n",
       "hour                0\n",
       "C1                  0\n",
       "banner_pos          0\n",
       "site_id             0\n",
       "site_domain         0\n",
       "site_category       0\n",
       "app_id              0\n",
       "app_domain          0\n",
       "app_category        0\n",
       "device_id           0\n",
       "device_ip           0\n",
       "device_model        0\n",
       "device_type         0\n",
       "device_conn_type    0\n",
       "C14                 0\n",
       "C15                 0\n",
       "C16                 0\n",
       "C17                 0\n",
       "C18                 0\n",
       "C19                 0\n",
       "C20                 0\n",
       "C21                 0\n",
       "dtype: int64"
      ]
     },
     "execution_count": 5,
     "metadata": {},
     "output_type": "execute_result"
    }
   ],
   "source": [
    "dataset[dataset.duplicated()==True].count()"
   ]
  },
  {
   "cell_type": "markdown",
   "metadata": {},
   "source": [
    "No duplicates."
   ]
  },
  {
   "cell_type": "code",
   "execution_count": 6,
   "metadata": {},
   "outputs": [
    {
     "data": {
      "text/html": [
       "<div>\n",
       "<style scoped>\n",
       "    .dataframe tbody tr th:only-of-type {\n",
       "        vertical-align: middle;\n",
       "    }\n",
       "\n",
       "    .dataframe tbody tr th {\n",
       "        vertical-align: top;\n",
       "    }\n",
       "\n",
       "    .dataframe thead th {\n",
       "        text-align: right;\n",
       "    }\n",
       "</style>\n",
       "<table border=\"1\" class=\"dataframe\">\n",
       "  <thead>\n",
       "    <tr style=\"text-align: right;\">\n",
       "      <th></th>\n",
       "      <th>id</th>\n",
       "      <th>banner_pos</th>\n",
       "      <th>hour</th>\n",
       "      <th>site_id</th>\n",
       "      <th>site_domain</th>\n",
       "      <th>site_category</th>\n",
       "      <th>app_id</th>\n",
       "      <th>app_domain</th>\n",
       "      <th>app_category</th>\n",
       "      <th>device_id</th>\n",
       "      <th>...</th>\n",
       "      <th>C1</th>\n",
       "      <th>C14</th>\n",
       "      <th>C15</th>\n",
       "      <th>C16</th>\n",
       "      <th>C17</th>\n",
       "      <th>C19</th>\n",
       "      <th>C20</th>\n",
       "      <th>C21</th>\n",
       "      <th>C18</th>\n",
       "      <th>click</th>\n",
       "    </tr>\n",
       "  </thead>\n",
       "  <tbody>\n",
       "    <tr>\n",
       "      <th>0</th>\n",
       "      <td>1.000009e+18</td>\n",
       "      <td>0</td>\n",
       "      <td>14102100</td>\n",
       "      <td>1fbe01fe</td>\n",
       "      <td>f3845767</td>\n",
       "      <td>28905ebd</td>\n",
       "      <td>ecad2386</td>\n",
       "      <td>7801e8d9</td>\n",
       "      <td>07d7df22</td>\n",
       "      <td>a99f214a</td>\n",
       "      <td>...</td>\n",
       "      <td>1005</td>\n",
       "      <td>15706</td>\n",
       "      <td>320</td>\n",
       "      <td>50</td>\n",
       "      <td>1722</td>\n",
       "      <td>35</td>\n",
       "      <td>-1</td>\n",
       "      <td>79</td>\n",
       "      <td>0</td>\n",
       "      <td>0</td>\n",
       "    </tr>\n",
       "    <tr>\n",
       "      <th>1</th>\n",
       "      <td>1.000017e+19</td>\n",
       "      <td>0</td>\n",
       "      <td>14102100</td>\n",
       "      <td>1fbe01fe</td>\n",
       "      <td>f3845767</td>\n",
       "      <td>28905ebd</td>\n",
       "      <td>ecad2386</td>\n",
       "      <td>7801e8d9</td>\n",
       "      <td>07d7df22</td>\n",
       "      <td>a99f214a</td>\n",
       "      <td>...</td>\n",
       "      <td>1005</td>\n",
       "      <td>15704</td>\n",
       "      <td>320</td>\n",
       "      <td>50</td>\n",
       "      <td>1722</td>\n",
       "      <td>35</td>\n",
       "      <td>100084</td>\n",
       "      <td>79</td>\n",
       "      <td>0</td>\n",
       "      <td>0</td>\n",
       "    </tr>\n",
       "    <tr>\n",
       "      <th>2</th>\n",
       "      <td>1.000037e+19</td>\n",
       "      <td>0</td>\n",
       "      <td>14102100</td>\n",
       "      <td>1fbe01fe</td>\n",
       "      <td>f3845767</td>\n",
       "      <td>28905ebd</td>\n",
       "      <td>ecad2386</td>\n",
       "      <td>7801e8d9</td>\n",
       "      <td>07d7df22</td>\n",
       "      <td>a99f214a</td>\n",
       "      <td>...</td>\n",
       "      <td>1005</td>\n",
       "      <td>15704</td>\n",
       "      <td>320</td>\n",
       "      <td>50</td>\n",
       "      <td>1722</td>\n",
       "      <td>35</td>\n",
       "      <td>100084</td>\n",
       "      <td>79</td>\n",
       "      <td>0</td>\n",
       "      <td>0</td>\n",
       "    </tr>\n",
       "    <tr>\n",
       "      <th>3</th>\n",
       "      <td>1.000064e+19</td>\n",
       "      <td>0</td>\n",
       "      <td>14102100</td>\n",
       "      <td>1fbe01fe</td>\n",
       "      <td>f3845767</td>\n",
       "      <td>28905ebd</td>\n",
       "      <td>ecad2386</td>\n",
       "      <td>7801e8d9</td>\n",
       "      <td>07d7df22</td>\n",
       "      <td>a99f214a</td>\n",
       "      <td>...</td>\n",
       "      <td>1005</td>\n",
       "      <td>15706</td>\n",
       "      <td>320</td>\n",
       "      <td>50</td>\n",
       "      <td>1722</td>\n",
       "      <td>35</td>\n",
       "      <td>100084</td>\n",
       "      <td>79</td>\n",
       "      <td>0</td>\n",
       "      <td>0</td>\n",
       "    </tr>\n",
       "    <tr>\n",
       "      <th>4</th>\n",
       "      <td>1.000068e+19</td>\n",
       "      <td>1</td>\n",
       "      <td>14102100</td>\n",
       "      <td>fe8cc448</td>\n",
       "      <td>9166c161</td>\n",
       "      <td>0569f928</td>\n",
       "      <td>ecad2386</td>\n",
       "      <td>7801e8d9</td>\n",
       "      <td>07d7df22</td>\n",
       "      <td>a99f214a</td>\n",
       "      <td>...</td>\n",
       "      <td>1005</td>\n",
       "      <td>18993</td>\n",
       "      <td>320</td>\n",
       "      <td>50</td>\n",
       "      <td>2161</td>\n",
       "      <td>35</td>\n",
       "      <td>-1</td>\n",
       "      <td>157</td>\n",
       "      <td>0</td>\n",
       "      <td>0</td>\n",
       "    </tr>\n",
       "    <tr>\n",
       "      <th>...</th>\n",
       "      <td>...</td>\n",
       "      <td>...</td>\n",
       "      <td>...</td>\n",
       "      <td>...</td>\n",
       "      <td>...</td>\n",
       "      <td>...</td>\n",
       "      <td>...</td>\n",
       "      <td>...</td>\n",
       "      <td>...</td>\n",
       "      <td>...</td>\n",
       "      <td>...</td>\n",
       "      <td>...</td>\n",
       "      <td>...</td>\n",
       "      <td>...</td>\n",
       "      <td>...</td>\n",
       "      <td>...</td>\n",
       "      <td>...</td>\n",
       "      <td>...</td>\n",
       "      <td>...</td>\n",
       "      <td>...</td>\n",
       "      <td>...</td>\n",
       "    </tr>\n",
       "    <tr>\n",
       "      <th>499995</th>\n",
       "      <td>1.311196e+19</td>\n",
       "      <td>0</td>\n",
       "      <td>14102103</td>\n",
       "      <td>85f751fd</td>\n",
       "      <td>c4e18dd6</td>\n",
       "      <td>50e219e0</td>\n",
       "      <td>53de0284</td>\n",
       "      <td>d9b5648e</td>\n",
       "      <td>0f2161f8</td>\n",
       "      <td>a99f214a</td>\n",
       "      <td>...</td>\n",
       "      <td>1005</td>\n",
       "      <td>21611</td>\n",
       "      <td>320</td>\n",
       "      <td>50</td>\n",
       "      <td>2480</td>\n",
       "      <td>299</td>\n",
       "      <td>100111</td>\n",
       "      <td>61</td>\n",
       "      <td>3</td>\n",
       "      <td>0</td>\n",
       "    </tr>\n",
       "    <tr>\n",
       "      <th>499996</th>\n",
       "      <td>1.311197e+19</td>\n",
       "      <td>1</td>\n",
       "      <td>14102103</td>\n",
       "      <td>d9750ee7</td>\n",
       "      <td>98572c79</td>\n",
       "      <td>f028772b</td>\n",
       "      <td>ecad2386</td>\n",
       "      <td>7801e8d9</td>\n",
       "      <td>07d7df22</td>\n",
       "      <td>a99f214a</td>\n",
       "      <td>...</td>\n",
       "      <td>1005</td>\n",
       "      <td>17614</td>\n",
       "      <td>320</td>\n",
       "      <td>50</td>\n",
       "      <td>1993</td>\n",
       "      <td>1063</td>\n",
       "      <td>-1</td>\n",
       "      <td>33</td>\n",
       "      <td>2</td>\n",
       "      <td>0</td>\n",
       "    </tr>\n",
       "    <tr>\n",
       "      <th>499997</th>\n",
       "      <td>1.311202e+19</td>\n",
       "      <td>0</td>\n",
       "      <td>14102103</td>\n",
       "      <td>85f751fd</td>\n",
       "      <td>c4e18dd6</td>\n",
       "      <td>50e219e0</td>\n",
       "      <td>e2fcccd2</td>\n",
       "      <td>5c5a694b</td>\n",
       "      <td>0f2161f8</td>\n",
       "      <td>42625159</td>\n",
       "      <td>...</td>\n",
       "      <td>1005</td>\n",
       "      <td>20633</td>\n",
       "      <td>320</td>\n",
       "      <td>50</td>\n",
       "      <td>2374</td>\n",
       "      <td>39</td>\n",
       "      <td>-1</td>\n",
       "      <td>23</td>\n",
       "      <td>3</td>\n",
       "      <td>0</td>\n",
       "    </tr>\n",
       "    <tr>\n",
       "      <th>499998</th>\n",
       "      <td>1.311205e+19</td>\n",
       "      <td>1</td>\n",
       "      <td>14102103</td>\n",
       "      <td>5b4d2eda</td>\n",
       "      <td>16a36ef3</td>\n",
       "      <td>f028772b</td>\n",
       "      <td>ecad2386</td>\n",
       "      <td>7801e8d9</td>\n",
       "      <td>07d7df22</td>\n",
       "      <td>a99f214a</td>\n",
       "      <td>...</td>\n",
       "      <td>1005</td>\n",
       "      <td>20355</td>\n",
       "      <td>216</td>\n",
       "      <td>36</td>\n",
       "      <td>2333</td>\n",
       "      <td>39</td>\n",
       "      <td>100077</td>\n",
       "      <td>157</td>\n",
       "      <td>0</td>\n",
       "      <td>0</td>\n",
       "    </tr>\n",
       "    <tr>\n",
       "      <th>499999</th>\n",
       "      <td>1.311207e+18</td>\n",
       "      <td>0</td>\n",
       "      <td>14102103</td>\n",
       "      <td>2328ee8e</td>\n",
       "      <td>7804dea6</td>\n",
       "      <td>f028772b</td>\n",
       "      <td>ecad2386</td>\n",
       "      <td>7801e8d9</td>\n",
       "      <td>07d7df22</td>\n",
       "      <td>a99f214a</td>\n",
       "      <td>...</td>\n",
       "      <td>1005</td>\n",
       "      <td>6563</td>\n",
       "      <td>320</td>\n",
       "      <td>50</td>\n",
       "      <td>572</td>\n",
       "      <td>39</td>\n",
       "      <td>-1</td>\n",
       "      <td>32</td>\n",
       "      <td>2</td>\n",
       "      <td>1</td>\n",
       "    </tr>\n",
       "  </tbody>\n",
       "</table>\n",
       "<p>500000 rows × 24 columns</p>\n",
       "</div>"
      ],
      "text/plain": [
       "                  id  banner_pos      hour   site_id site_domain  \\\n",
       "0       1.000009e+18           0  14102100  1fbe01fe    f3845767   \n",
       "1       1.000017e+19           0  14102100  1fbe01fe    f3845767   \n",
       "2       1.000037e+19           0  14102100  1fbe01fe    f3845767   \n",
       "3       1.000064e+19           0  14102100  1fbe01fe    f3845767   \n",
       "4       1.000068e+19           1  14102100  fe8cc448    9166c161   \n",
       "...              ...         ...       ...       ...         ...   \n",
       "499995  1.311196e+19           0  14102103  85f751fd    c4e18dd6   \n",
       "499996  1.311197e+19           1  14102103  d9750ee7    98572c79   \n",
       "499997  1.311202e+19           0  14102103  85f751fd    c4e18dd6   \n",
       "499998  1.311205e+19           1  14102103  5b4d2eda    16a36ef3   \n",
       "499999  1.311207e+18           0  14102103  2328ee8e    7804dea6   \n",
       "\n",
       "       site_category    app_id app_domain app_category device_id  ...    C1  \\\n",
       "0           28905ebd  ecad2386   7801e8d9     07d7df22  a99f214a  ...  1005   \n",
       "1           28905ebd  ecad2386   7801e8d9     07d7df22  a99f214a  ...  1005   \n",
       "2           28905ebd  ecad2386   7801e8d9     07d7df22  a99f214a  ...  1005   \n",
       "3           28905ebd  ecad2386   7801e8d9     07d7df22  a99f214a  ...  1005   \n",
       "4           0569f928  ecad2386   7801e8d9     07d7df22  a99f214a  ...  1005   \n",
       "...              ...       ...        ...          ...       ...  ...   ...   \n",
       "499995      50e219e0  53de0284   d9b5648e     0f2161f8  a99f214a  ...  1005   \n",
       "499996      f028772b  ecad2386   7801e8d9     07d7df22  a99f214a  ...  1005   \n",
       "499997      50e219e0  e2fcccd2   5c5a694b     0f2161f8  42625159  ...  1005   \n",
       "499998      f028772b  ecad2386   7801e8d9     07d7df22  a99f214a  ...  1005   \n",
       "499999      f028772b  ecad2386   7801e8d9     07d7df22  a99f214a  ...  1005   \n",
       "\n",
       "          C14  C15  C16   C17   C19     C20  C21  C18  click  \n",
       "0       15706  320   50  1722    35      -1   79    0      0  \n",
       "1       15704  320   50  1722    35  100084   79    0      0  \n",
       "2       15704  320   50  1722    35  100084   79    0      0  \n",
       "3       15706  320   50  1722    35  100084   79    0      0  \n",
       "4       18993  320   50  2161    35      -1  157    0      0  \n",
       "...       ...  ...  ...   ...   ...     ...  ...  ...    ...  \n",
       "499995  21611  320   50  2480   299  100111   61    3      0  \n",
       "499996  17614  320   50  1993  1063      -1   33    2      0  \n",
       "499997  20633  320   50  2374    39      -1   23    3      0  \n",
       "499998  20355  216   36  2333    39  100077  157    0      0  \n",
       "499999   6563  320   50   572    39      -1   32    2      1  \n",
       "\n",
       "[500000 rows x 24 columns]"
      ]
     },
     "execution_count": 6,
     "metadata": {},
     "output_type": "execute_result"
    }
   ],
   "source": [
    "dataset=dataset.drop(columns=['Unnamed: 0'])\n",
    "dataset=dataset[['id',\n",
    " 'banner_pos',\n",
    " 'hour',\n",
    " 'site_id',\n",
    " 'site_domain',\n",
    " 'site_category',\n",
    " 'app_id',\n",
    " 'app_domain',\n",
    " 'app_category',\n",
    " 'device_id',\n",
    " 'device_ip',\n",
    " 'device_model',\n",
    " 'device_type',\n",
    " 'device_conn_type',\n",
    " 'C1',\n",
    " 'C14',\n",
    " 'C15',\n",
    " 'C16',\n",
    " 'C17',\n",
    " 'C19',\n",
    " 'C20',\n",
    " 'C21',\n",
    " 'C18',\n",
    " 'click']]\n",
    "dataset"
   ]
  },
  {
   "cell_type": "code",
   "execution_count": 7,
   "metadata": {},
   "outputs": [
    {
     "data": {
      "text/plain": [
       "Text(0.5, 1.0, 'Clicks per hour')"
      ]
     },
     "execution_count": 7,
     "metadata": {},
     "output_type": "execute_result"
    },
    {
     "data": {
      "image/png": "[encoded data removed]",
      "text/plain": [
       "<Figure size 648x360 with 1 Axes>"
      ]
     },
     "metadata": {
      "needs_background": "light"
     },
     "output_type": "display_data"
    }
   ],
   "source": [
    "plt.figure(figsize=(9, 5))\n",
    "sns.countplot(x='hour',hue='click',data=dataset)\n",
    "plt.title(\"Clicks per hour\")"
   ]
  },
  {
   "cell_type": "markdown",
   "metadata": {},
   "source": [
    "Most activity was shown on **21st Oct, 2014** at **00:00** hour.\n",
    "\n",
    "Users were least likely to click an ad on **21st Oct, 2014** at **03:00** hour."
   ]
  },
  {
   "cell_type": "code",
   "execution_count": 8,
   "metadata": {},
   "outputs": [
    {
     "data": {
      "text/plain": [
       "Text(0.5, 1.0, 'Count of Clicked Ads from different Banner Positions')"
      ]
     },
     "execution_count": 8,
     "metadata": {},
     "output_type": "execute_result"
    },
    {
     "data": {
      "image/png": "[encoded data removed]",
      "text/plain": [
       "<Figure size 648x360 with 1 Axes>"
      ]
     },
     "metadata": {
      "needs_background": "light"
     },
     "output_type": "display_data"
    }
   ],
   "source": [
    "plt.figure(figsize=(9, 5))\n",
    "sns.countplot(y='banner_pos',data=dataset[dataset['click']==1],palette='Set3')\n",
    "plt.xlabel('Counts')\n",
    "plt.ylabel('Banner position of clicked ads')\n",
    "plt.title('Count of Clicked Ads from different Banner Positions')"
   ]
  },
  {
   "cell_type": "markdown",
   "metadata": {},
   "source": [
    "Ads placed at banner postion **0** were clicked the most."
   ]
  },
  {
   "cell_type": "code",
   "execution_count": 9,
   "metadata": {},
   "outputs": [
    {
     "data": {
      "text/plain": [
       "<AxesSubplot:ylabel='device_type'>"
      ]
     },
     "execution_count": 9,
     "metadata": {},
     "output_type": "execute_result"
    },
    {
     "data": {
      "image/png": "[encoded data removed]",
      "text/plain": [
       "<Figure size 1296x720 with 1 Axes>"
      ]
     },
     "metadata": {},
     "output_type": "display_data"
    }
   ],
   "source": [
    "plt.figure(figsize=(18, 10))\n",
    "dataset['device_type'].value_counts().plot(kind='pie',autopct='%1.2f%%')"
   ]
  },
  {
   "cell_type": "markdown",
   "metadata": {},
   "source": [
    "Device type **1** is most widely used."
   ]
  },
  {
   "cell_type": "code",
   "execution_count": 10,
   "metadata": {},
   "outputs": [
    {
     "data": {
      "text/plain": [
       "Text(0, 0.5, 'Number of times ad is displayed')"
      ]
     },
     "execution_count": 10,
     "metadata": {},
     "output_type": "execute_result"
    },
    {
     "data": {
      "image/png": "[encoded data removed]",
      "text/plain": [
       "<Figure size 648x360 with 1 Axes>"
      ]
     },
     "metadata": {
      "needs_background": "light"
     },
     "output_type": "display_data"
    }
   ],
   "source": [
    "plt.figure(figsize=(9, 5))\n",
    "dataset.site_id.value_counts().head(10).plot(kind='bar',color='red')\n",
    "plt.xlabel(\"Site ID\")\n",
    "plt.ylabel(\"Number of times ad is displayed\")"
   ]
  },
  {
   "cell_type": "markdown",
   "metadata": {},
   "source": [
    "**85f751fd** site displays ads most number of times."
   ]
  },
  {
   "cell_type": "code",
   "execution_count": 11,
   "metadata": {},
   "outputs": [
    {
     "data": {
      "text/plain": [
       "Text(0, 0.5, 'Ad ID')"
      ]
     },
     "execution_count": 11,
     "metadata": {},
     "output_type": "execute_result"
    },
    {
     "data": {
      "image/png": "[encoded data removed]",
      "text/plain": [
       "<Figure size 432x288 with 1 Axes>"
      ]
     },
     "metadata": {
      "needs_background": "light"
     },
     "output_type": "display_data"
    }
   ],
   "source": [
    "dataset.app_id.value_counts().head(10).plot(kind='barh',color='orange')\n",
    "plt.xlabel('Counts')\n",
    "plt.ylabel('Ad ID')"
   ]
  },
  {
   "cell_type": "markdown",
   "metadata": {},
   "source": [
    "**ecad2386** displays most ads."
   ]
  },
  {
   "cell_type": "code",
   "execution_count": 12,
   "metadata": {},
   "outputs": [
    {
     "data": {
      "text/plain": [
       "<AxesSubplot:>"
      ]
     },
     "execution_count": 12,
     "metadata": {},
     "output_type": "execute_result"
    },
    {
     "data": {
      "image/png": "[encoded data removed]",
      "text/plain": [
       "<Figure size 648x360 with 2 Axes>"
      ]
     },
     "metadata": {
      "needs_background": "light"
     },
     "output_type": "display_data"
    }
   ],
   "source": [
    "plt.figure(figsize=(9,5))\n",
    "sns.heatmap(dataset.iloc[:,14:22].corr(),annot=True)"
   ]
  },
  {
   "cell_type": "markdown",
   "metadata": {},
   "source": [
    "There were some **anonymous features** in the dataset so we need to find correlation between them.\n",
    "\n",
    "We can see that **C14** and **C17** are highly correlated (98%) so one of them can be removed.\n",
    "\n",
    "Other features have very little or no correlation between them."
   ]
  },
  {
   "cell_type": "markdown",
   "metadata": {},
   "source": [
    "### **Feature Engineering**"
   ]
  },
  {
   "cell_type": "markdown",
   "metadata": {},
   "source": [
    "**Modifying datatype and deleting some features.**"
   ]
  },
  {
   "cell_type": "code",
   "execution_count": 13,
   "metadata": {},
   "outputs": [],
   "source": [
    "dataset['hour']=pd.to_datetime(dataset['hour'],format='%y%m%d%H')"
   ]
  },
  {
   "cell_type": "code",
   "execution_count": 14,
   "metadata": {},
   "outputs": [
    {
     "data": {
      "text/plain": [
       "0        2014-10-21 00:00:00\n",
       "1        2014-10-21 00:00:00\n",
       "2        2014-10-21 00:00:00\n",
       "3        2014-10-21 00:00:00\n",
       "4        2014-10-21 00:00:00\n",
       "                 ...        \n",
       "499995   2014-10-21 03:00:00\n",
       "499996   2014-10-21 03:00:00\n",
       "499997   2014-10-21 03:00:00\n",
       "499998   2014-10-21 03:00:00\n",
       "499999   2014-10-21 03:00:00\n",
       "Name: hour, Length: 500000, dtype: datetime64[ns]"
      ]
     },
     "execution_count": 14,
     "metadata": {},
     "output_type": "execute_result"
    }
   ],
   "source": [
    "dataset.hour"
   ]
  },
  {
   "cell_type": "markdown",
   "metadata": {},
   "source": [
    "This also needs to be encoded in order to train the model."
   ]
  },
  {
   "cell_type": "code",
   "execution_count": 15,
   "metadata": {},
   "outputs": [],
   "source": [
    "dataset=dataset.drop(columns=['C14'])"
   ]
  },
  {
   "cell_type": "markdown",
   "metadata": {},
   "source": [
    "**Label Encoding**"
   ]
  },
  {
   "cell_type": "code",
   "execution_count": 16,
   "metadata": {},
   "outputs": [],
   "source": [
    "dataset.iloc[:,2:12]=dataset.iloc[:,2:12].astype('category')"
   ]
  },
  {
   "cell_type": "code",
   "execution_count": 17,
   "metadata": {},
   "outputs": [],
   "source": [
    "for i in range(2,12):\n",
    "    dataset.iloc[:,i]=dataset.iloc[:,i].cat.codes"
   ]
  },
  {
   "cell_type": "code",
   "execution_count": 18,
   "metadata": {
    "scrolled": false
   },
   "outputs": [
    {
     "data": {
      "text/html": [
       "<div>\n",
       "<style scoped>\n",
       "    .dataframe tbody tr th:only-of-type {\n",
       "        vertical-align: middle;\n",
       "    }\n",
       "\n",
       "    .dataframe tbody tr th {\n",
       "        vertical-align: top;\n",
       "    }\n",
       "\n",
       "    .dataframe thead th {\n",
       "        text-align: right;\n",
       "    }\n",
       "</style>\n",
       "<table border=\"1\" class=\"dataframe\">\n",
       "  <thead>\n",
       "    <tr style=\"text-align: right;\">\n",
       "      <th></th>\n",
       "      <th>id</th>\n",
       "      <th>banner_pos</th>\n",
       "      <th>hour</th>\n",
       "      <th>site_id</th>\n",
       "      <th>site_domain</th>\n",
       "      <th>site_category</th>\n",
       "      <th>app_id</th>\n",
       "      <th>app_domain</th>\n",
       "      <th>app_category</th>\n",
       "      <th>device_id</th>\n",
       "      <th>...</th>\n",
       "      <th>device_conn_type</th>\n",
       "      <th>C1</th>\n",
       "      <th>C15</th>\n",
       "      <th>C16</th>\n",
       "      <th>C17</th>\n",
       "      <th>C19</th>\n",
       "      <th>C20</th>\n",
       "      <th>C21</th>\n",
       "      <th>C18</th>\n",
       "      <th>click</th>\n",
       "    </tr>\n",
       "  </thead>\n",
       "  <tbody>\n",
       "    <tr>\n",
       "      <th>0</th>\n",
       "      <td>1.000009e+18</td>\n",
       "      <td>0</td>\n",
       "      <td>0</td>\n",
       "      <td>215</td>\n",
       "      <td>1503</td>\n",
       "      <td>2</td>\n",
       "      <td>1518</td>\n",
       "      <td>62</td>\n",
       "      <td>0</td>\n",
       "      <td>27538</td>\n",
       "      <td>...</td>\n",
       "      <td>2</td>\n",
       "      <td>1005</td>\n",
       "      <td>320</td>\n",
       "      <td>50</td>\n",
       "      <td>1722</td>\n",
       "      <td>35</td>\n",
       "      <td>-1</td>\n",
       "      <td>79</td>\n",
       "      <td>0</td>\n",
       "      <td>0</td>\n",
       "    </tr>\n",
       "    <tr>\n",
       "      <th>1</th>\n",
       "      <td>1.000017e+19</td>\n",
       "      <td>0</td>\n",
       "      <td>0</td>\n",
       "      <td>215</td>\n",
       "      <td>1503</td>\n",
       "      <td>2</td>\n",
       "      <td>1518</td>\n",
       "      <td>62</td>\n",
       "      <td>0</td>\n",
       "      <td>27538</td>\n",
       "      <td>...</td>\n",
       "      <td>0</td>\n",
       "      <td>1005</td>\n",
       "      <td>320</td>\n",
       "      <td>50</td>\n",
       "      <td>1722</td>\n",
       "      <td>35</td>\n",
       "      <td>100084</td>\n",
       "      <td>79</td>\n",
       "      <td>0</td>\n",
       "      <td>0</td>\n",
       "    </tr>\n",
       "    <tr>\n",
       "      <th>2</th>\n",
       "      <td>1.000037e+19</td>\n",
       "      <td>0</td>\n",
       "      <td>0</td>\n",
       "      <td>215</td>\n",
       "      <td>1503</td>\n",
       "      <td>2</td>\n",
       "      <td>1518</td>\n",
       "      <td>62</td>\n",
       "      <td>0</td>\n",
       "      <td>27538</td>\n",
       "      <td>...</td>\n",
       "      <td>0</td>\n",
       "      <td>1005</td>\n",
       "      <td>320</td>\n",
       "      <td>50</td>\n",
       "      <td>1722</td>\n",
       "      <td>35</td>\n",
       "      <td>100084</td>\n",
       "      <td>79</td>\n",
       "      <td>0</td>\n",
       "      <td>0</td>\n",
       "    </tr>\n",
       "    <tr>\n",
       "      <th>3</th>\n",
       "      <td>1.000064e+19</td>\n",
       "      <td>0</td>\n",
       "      <td>0</td>\n",
       "      <td>215</td>\n",
       "      <td>1503</td>\n",
       "      <td>2</td>\n",
       "      <td>1518</td>\n",
       "      <td>62</td>\n",
       "      <td>0</td>\n",
       "      <td>27538</td>\n",
       "      <td>...</td>\n",
       "      <td>0</td>\n",
       "      <td>1005</td>\n",
       "      <td>320</td>\n",
       "      <td>50</td>\n",
       "      <td>1722</td>\n",
       "      <td>35</td>\n",
       "      <td>100084</td>\n",
       "      <td>79</td>\n",
       "      <td>0</td>\n",
       "      <td>0</td>\n",
       "    </tr>\n",
       "    <tr>\n",
       "      <th>4</th>\n",
       "      <td>1.000068e+19</td>\n",
       "      <td>1</td>\n",
       "      <td>0</td>\n",
       "      <td>1687</td>\n",
       "      <td>910</td>\n",
       "      <td>0</td>\n",
       "      <td>1518</td>\n",
       "      <td>62</td>\n",
       "      <td>0</td>\n",
       "      <td>27538</td>\n",
       "      <td>...</td>\n",
       "      <td>0</td>\n",
       "      <td>1005</td>\n",
       "      <td>320</td>\n",
       "      <td>50</td>\n",
       "      <td>2161</td>\n",
       "      <td>35</td>\n",
       "      <td>-1</td>\n",
       "      <td>157</td>\n",
       "      <td>0</td>\n",
       "      <td>0</td>\n",
       "    </tr>\n",
       "    <tr>\n",
       "      <th>...</th>\n",
       "      <td>...</td>\n",
       "      <td>...</td>\n",
       "      <td>...</td>\n",
       "      <td>...</td>\n",
       "      <td>...</td>\n",
       "      <td>...</td>\n",
       "      <td>...</td>\n",
       "      <td>...</td>\n",
       "      <td>...</td>\n",
       "      <td>...</td>\n",
       "      <td>...</td>\n",
       "      <td>...</td>\n",
       "      <td>...</td>\n",
       "      <td>...</td>\n",
       "      <td>...</td>\n",
       "      <td>...</td>\n",
       "      <td>...</td>\n",
       "      <td>...</td>\n",
       "      <td>...</td>\n",
       "      <td>...</td>\n",
       "      <td>...</td>\n",
       "    </tr>\n",
       "    <tr>\n",
       "      <th>499995</th>\n",
       "      <td>1.311196e+19</td>\n",
       "      <td>0</td>\n",
       "      <td>3</td>\n",
       "      <td>920</td>\n",
       "      <td>1217</td>\n",
       "      <td>6</td>\n",
       "      <td>550</td>\n",
       "      <td>107</td>\n",
       "      <td>2</td>\n",
       "      <td>27538</td>\n",
       "      <td>...</td>\n",
       "      <td>0</td>\n",
       "      <td>1005</td>\n",
       "      <td>320</td>\n",
       "      <td>50</td>\n",
       "      <td>2480</td>\n",
       "      <td>299</td>\n",
       "      <td>100111</td>\n",
       "      <td>61</td>\n",
       "      <td>3</td>\n",
       "      <td>0</td>\n",
       "    </tr>\n",
       "    <tr>\n",
       "      <th>499996</th>\n",
       "      <td>1.311197e+19</td>\n",
       "      <td>1</td>\n",
       "      <td>3</td>\n",
       "      <td>1436</td>\n",
       "      <td>957</td>\n",
       "      <td>19</td>\n",
       "      <td>1518</td>\n",
       "      <td>62</td>\n",
       "      <td>0</td>\n",
       "      <td>27538</td>\n",
       "      <td>...</td>\n",
       "      <td>0</td>\n",
       "      <td>1005</td>\n",
       "      <td>320</td>\n",
       "      <td>50</td>\n",
       "      <td>1993</td>\n",
       "      <td>1063</td>\n",
       "      <td>-1</td>\n",
       "      <td>33</td>\n",
       "      <td>2</td>\n",
       "      <td>0</td>\n",
       "    </tr>\n",
       "    <tr>\n",
       "      <th>499997</th>\n",
       "      <td>1.311202e+19</td>\n",
       "      <td>0</td>\n",
       "      <td>3</td>\n",
       "      <td>920</td>\n",
       "      <td>1217</td>\n",
       "      <td>6</td>\n",
       "      <td>1454</td>\n",
       "      <td>47</td>\n",
       "      <td>2</td>\n",
       "      <td>10695</td>\n",
       "      <td>...</td>\n",
       "      <td>0</td>\n",
       "      <td>1005</td>\n",
       "      <td>320</td>\n",
       "      <td>50</td>\n",
       "      <td>2374</td>\n",
       "      <td>39</td>\n",
       "      <td>-1</td>\n",
       "      <td>23</td>\n",
       "      <td>3</td>\n",
       "      <td>0</td>\n",
       "    </tr>\n",
       "    <tr>\n",
       "      <th>499998</th>\n",
       "      <td>1.311205e+19</td>\n",
       "      <td>1</td>\n",
       "      <td>3</td>\n",
       "      <td>657</td>\n",
       "      <td>113</td>\n",
       "      <td>19</td>\n",
       "      <td>1518</td>\n",
       "      <td>62</td>\n",
       "      <td>0</td>\n",
       "      <td>27538</td>\n",
       "      <td>...</td>\n",
       "      <td>0</td>\n",
       "      <td>1005</td>\n",
       "      <td>216</td>\n",
       "      <td>36</td>\n",
       "      <td>2333</td>\n",
       "      <td>39</td>\n",
       "      <td>100077</td>\n",
       "      <td>157</td>\n",
       "      <td>0</td>\n",
       "      <td>0</td>\n",
       "    </tr>\n",
       "    <tr>\n",
       "      <th>499999</th>\n",
       "      <td>1.311207e+18</td>\n",
       "      <td>0</td>\n",
       "      <td>3</td>\n",
       "      <td>236</td>\n",
       "      <td>751</td>\n",
       "      <td>19</td>\n",
       "      <td>1518</td>\n",
       "      <td>62</td>\n",
       "      <td>0</td>\n",
       "      <td>27538</td>\n",
       "      <td>...</td>\n",
       "      <td>0</td>\n",
       "      <td>1005</td>\n",
       "      <td>320</td>\n",
       "      <td>50</td>\n",
       "      <td>572</td>\n",
       "      <td>39</td>\n",
       "      <td>-1</td>\n",
       "      <td>32</td>\n",
       "      <td>2</td>\n",
       "      <td>1</td>\n",
       "    </tr>\n",
       "  </tbody>\n",
       "</table>\n",
       "<p>500000 rows × 23 columns</p>\n",
       "</div>"
      ],
      "text/plain": [
       "                  id  banner_pos  hour  site_id  site_domain  site_category  \\\n",
       "0       1.000009e+18           0     0      215         1503              2   \n",
       "1       1.000017e+19           0     0      215         1503              2   \n",
       "2       1.000037e+19           0     0      215         1503              2   \n",
       "3       1.000064e+19           0     0      215         1503              2   \n",
       "4       1.000068e+19           1     0     1687          910              0   \n",
       "...              ...         ...   ...      ...          ...            ...   \n",
       "499995  1.311196e+19           0     3      920         1217              6   \n",
       "499996  1.311197e+19           1     3     1436          957             19   \n",
       "499997  1.311202e+19           0     3      920         1217              6   \n",
       "499998  1.311205e+19           1     3      657          113             19   \n",
       "499999  1.311207e+18           0     3      236          751             19   \n",
       "\n",
       "        app_id  app_domain  app_category  device_id  ...  device_conn_type  \\\n",
       "0         1518          62             0      27538  ...                 2   \n",
       "1         1518          62             0      27538  ...                 0   \n",
       "2         1518          62             0      27538  ...                 0   \n",
       "3         1518          62             0      27538  ...                 0   \n",
       "4         1518          62             0      27538  ...                 0   \n",
       "...        ...         ...           ...        ...  ...               ...   \n",
       "499995     550         107             2      27538  ...                 0   \n",
       "499996    1518          62             0      27538  ...                 0   \n",
       "499997    1454          47             2      10695  ...                 0   \n",
       "499998    1518          62             0      27538  ...                 0   \n",
       "499999    1518          62             0      27538  ...                 0   \n",
       "\n",
       "          C1  C15  C16   C17   C19     C20  C21  C18  click  \n",
       "0       1005  320   50  1722    35      -1   79    0      0  \n",
       "1       1005  320   50  1722    35  100084   79    0      0  \n",
       "2       1005  320   50  1722    35  100084   79    0      0  \n",
       "3       1005  320   50  1722    35  100084   79    0      0  \n",
       "4       1005  320   50  2161    35      -1  157    0      0  \n",
       "...      ...  ...  ...   ...   ...     ...  ...  ...    ...  \n",
       "499995  1005  320   50  2480   299  100111   61    3      0  \n",
       "499996  1005  320   50  1993  1063      -1   33    2      0  \n",
       "499997  1005  320   50  2374    39      -1   23    3      0  \n",
       "499998  1005  216   36  2333    39  100077  157    0      0  \n",
       "499999  1005  320   50   572    39      -1   32    2      1  \n",
       "\n",
       "[500000 rows x 23 columns]"
      ]
     },
     "execution_count": 18,
     "metadata": {},
     "output_type": "execute_result"
    }
   ],
   "source": [
    "dataset"
   ]
  },
  {
   "cell_type": "markdown",
   "metadata": {},
   "source": [
    "**Spliting into training and test set**"
   ]
  },
  {
   "cell_type": "code",
   "execution_count": 19,
   "metadata": {},
   "outputs": [],
   "source": [
    "X=dataset.iloc[:,:-1].values\n",
    "y=dataset.iloc[:,-1].values"
   ]
  },
  {
   "cell_type": "code",
   "execution_count": 20,
   "metadata": {},
   "outputs": [],
   "source": [
    "from sklearn.model_selection import train_test_split\n",
    "X_train,X_test,y_train,y_test=train_test_split(X,y,test_size=0.2)"
   ]
  },
  {
   "cell_type": "markdown",
   "metadata": {},
   "source": [
    "**Scaling the features**"
   ]
  },
  {
   "cell_type": "code",
   "execution_count": 21,
   "metadata": {},
   "outputs": [],
   "source": [
    "from sklearn.preprocessing import StandardScaler\n",
    "sc=StandardScaler()\n",
    "X_train=sc.fit_transform(X_train)\n",
    "X_test=sc.transform(X_test)"
   ]
  },
  {
   "cell_type": "markdown",
   "metadata": {},
   "source": [
    "### **Fitting Logistic Regression Model**"
   ]
  },
  {
   "cell_type": "code",
   "execution_count": 22,
   "metadata": {},
   "outputs": [
    {
     "data": {
      "text/plain": [
       "DecisionTreeClassifier(criterion='entropy')"
      ]
     },
     "execution_count": 22,
     "metadata": {},
     "output_type": "execute_result"
    }
   ],
   "source": [
    "from sklearn.tree import DecisionTreeClassifier\n",
    "classifier=DecisionTreeClassifier(criterion='entropy')\n",
    "classifier.fit(X_train,y_train)"
   ]
  },
  {
   "cell_type": "markdown",
   "metadata": {},
   "source": [
    "### **Predicting Test Set Results**"
   ]
  },
  {
   "cell_type": "code",
   "execution_count": 23,
   "metadata": {},
   "outputs": [],
   "source": [
    "y_pred=classifier.predict(X_test)"
   ]
  },
  {
   "cell_type": "markdown",
   "metadata": {},
   "source": [
    "### **Confusion Matrix and Accuracy**"
   ]
  },
  {
   "cell_type": "code",
   "execution_count": 24,
   "metadata": {},
   "outputs": [
    {
     "name": "stdout",
     "output_type": "stream",
     "text": [
      "[[71764 11681]\n",
      " [11256  5299]]\n"
     ]
    },
    {
     "data": {
      "text/plain": [
       "0.77063"
      ]
     },
     "execution_count": 24,
     "metadata": {},
     "output_type": "execute_result"
    }
   ],
   "source": [
    "from sklearn.metrics import confusion_matrix, accuracy_score\n",
    "cm=confusion_matrix(y_test,y_pred)\n",
    "print(cm)\n",
    "accuracy_score(y_test,y_pred)"
   ]
  },
  {
   "cell_type": "markdown",
   "metadata": {},
   "source": [
    "So our model is **77.06%** accurate in predicting the results."
   ]
  }
 ],
 "metadata": {
  "kernelspec": {
   "display_name": "Python 3",
   "language": "python",
   "name": "python3"
  },
  "language_info": {
   "codemirror_mode": {
    "name": "ipython",
    "version": 3
   },
   "file_extension": ".py",
   "mimetype": "text/x-python",
   "name": "python",
   "nbconvert_exporter": "python",
   "pygments_lexer": "ipython3",
   "version": "3.8.5"
  }
 },
 "nbformat": 4,
 "nbformat_minor": 4
}
