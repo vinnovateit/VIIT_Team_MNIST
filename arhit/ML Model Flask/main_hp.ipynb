{
 "cells": [
  {
   "cell_type": "markdown",
   "metadata": {},
   "source": [
    "# Exploratory Data Analysis on the California Housing Prices\n",
    "<img></img>"
   ]
  },
  {
   "cell_type": "markdown",
   "metadata": {},
   "source": [
    "### Importing Libraries"
   ]
  },
  {
   "cell_type": "code",
   "execution_count": 1,
   "metadata": {},
   "outputs": [],
   "source": [
    "import os\n",
    "import tarfile\n",
    "import urllib\n",
    "\n",
    "import numpy as np\n",
    "import pandas as pd\n",
    "import matplotlib.pyplot as plt\n",
    "import pickle\n",
    "\n",
    "import seaborn as sns\n",
    "sns.set_style('darkgrid')\n",
    "from sklearn.linear_model import LinearRegression\n",
    "from sklearn.model_selection import train_test_split\n",
    "%matplotlib inline "
   ]
  },
  {
   "cell_type": "markdown",
   "metadata": {},
   "source": [
    "### Importing the Dataset on California Housing Prices"
   ]
  },
  {
   "cell_type": "code",
   "execution_count": 2,
   "metadata": {},
   "outputs": [],
   "source": [
    "\n",
    "dataset_path = os.path.join(\"dataset\")\n",
    "download_url=\"https://raw.githubusercontent.com/ageron/handson-ml2/master/datasets/housing/housing.tgz\""
   ]
  },
  {
   "cell_type": "code",
   "execution_count": 3,
   "metadata": {},
   "outputs": [],
   "source": [
    "def fetch_data(download_url= download_url, dataset_path= dataset_path):\n",
    "    os.makedirs(dataset_path, exist_ok= True)\n",
    "    tgz_path = os.path.join(dataset_path,\"housing.tgz\")\n",
    "    urllib.request.urlretrieve(download_url, tgz_path)\n",
    "    housing_tgz = tarfile.open(tgz_path)\n",
    "    housing_tgz.extractall(path= dataset_path)\n",
    "    housing_tgz.close()"
   ]
  },
  {
   "cell_type": "code",
   "execution_count": 4,
   "metadata": {},
   "outputs": [],
   "source": [
    "fetch_data()"
   ]
  },
  {
   "cell_type": "code",
   "execution_count": 5,
   "metadata": {},
   "outputs": [],
   "source": [
    "def load_data(dataset_path= dataset_path):\n",
    "    csv_path = os.path.join(dataset_path, \"housing.csv\")\n",
    "    return pd.read_csv(csv_path)"
   ]
  },
  {
   "cell_type": "code",
   "execution_count": 6,
   "metadata": {},
   "outputs": [],
   "source": [
    "df = load_data()"
   ]
  },
  {
   "cell_type": "markdown",
   "metadata": {},
   "source": [
    "### Glance of the DataSet"
   ]
  },
  {
   "cell_type": "code",
   "execution_count": 7,
   "metadata": {},
   "outputs": [
    {
     "output_type": "execute_result",
     "data": {
      "text/plain": [
       "       longitude  latitude  housing_median_age  total_rooms  total_bedrooms  \\\n",
       "0        -122.23     37.88                41.0        880.0           129.0   \n",
       "1        -122.22     37.86                21.0       7099.0          1106.0   \n",
       "2        -122.24     37.85                52.0       1467.0           190.0   \n",
       "3        -122.25     37.85                52.0       1274.0           235.0   \n",
       "4        -122.25     37.85                52.0       1627.0           280.0   \n",
       "...          ...       ...                 ...          ...             ...   \n",
       "20635    -121.09     39.48                25.0       1665.0           374.0   \n",
       "20636    -121.21     39.49                18.0        697.0           150.0   \n",
       "20637    -121.22     39.43                17.0       2254.0           485.0   \n",
       "20638    -121.32     39.43                18.0       1860.0           409.0   \n",
       "20639    -121.24     39.37                16.0       2785.0           616.0   \n",
       "\n",
       "       population  households  median_income  median_house_value  \\\n",
       "0           322.0       126.0         8.3252            452600.0   \n",
       "1          2401.0      1138.0         8.3014            358500.0   \n",
       "2           496.0       177.0         7.2574            352100.0   \n",
       "3           558.0       219.0         5.6431            341300.0   \n",
       "4           565.0       259.0         3.8462            342200.0   \n",
       "...           ...         ...            ...                 ...   \n",
       "20635       845.0       330.0         1.5603             78100.0   \n",
       "20636       356.0       114.0         2.5568             77100.0   \n",
       "20637      1007.0       433.0         1.7000             92300.0   \n",
       "20638       741.0       349.0         1.8672             84700.0   \n",
       "20639      1387.0       530.0         2.3886             89400.0   \n",
       "\n",
       "      ocean_proximity  \n",
       "0            NEAR BAY  \n",
       "1            NEAR BAY  \n",
       "2            NEAR BAY  \n",
       "3            NEAR BAY  \n",
       "4            NEAR BAY  \n",
       "...               ...  \n",
       "20635          INLAND  \n",
       "20636          INLAND  \n",
       "20637          INLAND  \n",
       "20638          INLAND  \n",
       "20639          INLAND  \n",
       "\n",
       "[20640 rows x 10 columns]"
      ],
      "text/html": "<div>\n<style scoped>\n    .dataframe tbody tr th:only-of-type {\n        vertical-align: middle;\n    }\n\n    .dataframe tbody tr th {\n        vertical-align: top;\n    }\n\n    .dataframe thead th {\n        text-align: right;\n    }\n</style>\n<table border=\"1\" class=\"dataframe\">\n  <thead>\n    <tr style=\"text-align: right;\">\n      <th></th>\n      <th>longitude</th>\n      <th>latitude</th>\n      <th>housing_median_age</th>\n      <th>total_rooms</th>\n      <th>total_bedrooms</th>\n      <th>population</th>\n      <th>households</th>\n      <th>median_income</th>\n      <th>median_house_value</th>\n      <th>ocean_proximity</th>\n    </tr>\n  </thead>\n  <tbody>\n    <tr>\n      <th>0</th>\n      <td>-122.23</td>\n      <td>37.88</td>\n      <td>41.0</td>\n      <td>880.0</td>\n      <td>129.0</td>\n      <td>322.0</td>\n      <td>126.0</td>\n      <td>8.3252</td>\n      <td>452600.0</td>\n      <td>NEAR BAY</td>\n    </tr>\n    <tr>\n      <th>1</th>\n      <td>-122.22</td>\n      <td>37.86</td>\n      <td>21.0</td>\n      <td>7099.0</td>\n      <td>1106.0</td>\n      <td>2401.0</td>\n      <td>1138.0</td>\n      <td>8.3014</td>\n      <td>358500.0</td>\n      <td>NEAR BAY</td>\n    </tr>\n    <tr>\n      <th>2</th>\n      <td>-122.24</td>\n      <td>37.85</td>\n      <td>52.0</td>\n      <td>1467.0</td>\n      <td>190.0</td>\n      <td>496.0</td>\n      <td>177.0</td>\n      <td>7.2574</td>\n      <td>352100.0</td>\n      <td>NEAR BAY</td>\n    </tr>\n    <tr>\n      <th>3</th>\n      <td>-122.25</td>\n      <td>37.85</td>\n      <td>52.0</td>\n      <td>1274.0</td>\n      <td>235.0</td>\n      <td>558.0</td>\n      <td>219.0</td>\n      <td>5.6431</td>\n      <td>341300.0</td>\n      <td>NEAR BAY</td>\n    </tr>\n    <tr>\n      <th>4</th>\n      <td>-122.25</td>\n      <td>37.85</td>\n      <td>52.0</td>\n      <td>1627.0</td>\n      <td>280.0</td>\n      <td>565.0</td>\n      <td>259.0</td>\n      <td>3.8462</td>\n      <td>342200.0</td>\n      <td>NEAR BAY</td>\n    </tr>\n    <tr>\n      <th>...</th>\n      <td>...</td>\n      <td>...</td>\n      <td>...</td>\n      <td>...</td>\n      <td>...</td>\n      <td>...</td>\n      <td>...</td>\n      <td>...</td>\n      <td>...</td>\n      <td>...</td>\n    </tr>\n    <tr>\n      <th>20635</th>\n      <td>-121.09</td>\n      <td>39.48</td>\n      <td>25.0</td>\n      <td>1665.0</td>\n      <td>374.0</td>\n      <td>845.0</td>\n      <td>330.0</td>\n      <td>1.5603</td>\n      <td>78100.0</td>\n      <td>INLAND</td>\n    </tr>\n    <tr>\n      <th>20636</th>\n      <td>-121.21</td>\n      <td>39.49</td>\n      <td>18.0</td>\n      <td>697.0</td>\n      <td>150.0</td>\n      <td>356.0</td>\n      <td>114.0</td>\n      <td>2.5568</td>\n      <td>77100.0</td>\n      <td>INLAND</td>\n    </tr>\n    <tr>\n      <th>20637</th>\n      <td>-121.22</td>\n      <td>39.43</td>\n      <td>17.0</td>\n      <td>2254.0</td>\n      <td>485.0</td>\n      <td>1007.0</td>\n      <td>433.0</td>\n      <td>1.7000</td>\n      <td>92300.0</td>\n      <td>INLAND</td>\n    </tr>\n    <tr>\n      <th>20638</th>\n      <td>-121.32</td>\n      <td>39.43</td>\n      <td>18.0</td>\n      <td>1860.0</td>\n      <td>409.0</td>\n      <td>741.0</td>\n      <td>349.0</td>\n      <td>1.8672</td>\n      <td>84700.0</td>\n      <td>INLAND</td>\n    </tr>\n    <tr>\n      <th>20639</th>\n      <td>-121.24</td>\n      <td>39.37</td>\n      <td>16.0</td>\n      <td>2785.0</td>\n      <td>616.0</td>\n      <td>1387.0</td>\n      <td>530.0</td>\n      <td>2.3886</td>\n      <td>89400.0</td>\n      <td>INLAND</td>\n    </tr>\n  </tbody>\n</table>\n<p>20640 rows × 10 columns</p>\n</div>"
     },
     "metadata": {},
     "execution_count": 7
    }
   ],
   "source": [
    "df"
   ]
  },
  {
   "cell_type": "markdown",
   "metadata": {},
   "source": [
    "### Inference:\n",
    "We can observe that the dataset consists of 20,639 households across 10 different attributes"
   ]
  },
  {
   "cell_type": "markdown",
   "metadata": {},
   "source": [
    "### Cleaning and Filtering the data"
   ]
  },
  {
   "cell_type": "code",
   "execution_count": 8,
   "metadata": {},
   "outputs": [
    {
     "output_type": "execute_result",
     "data": {
      "text/plain": [
       "False"
      ]
     },
     "metadata": {},
     "execution_count": 8
    }
   ],
   "source": [
    "df = df.drop_duplicates() \n",
    "df.duplicated().values.any()  #Finding any duplicates\n"
   ]
  },
  {
   "cell_type": "code",
   "execution_count": 9,
   "metadata": {},
   "outputs": [
    {
     "output_type": "execute_result",
     "data": {
      "text/plain": [
       "longitude             False\n",
       "latitude              False\n",
       "housing_median_age    False\n",
       "total_rooms           False\n",
       "total_bedrooms        False\n",
       "population            False\n",
       "households            False\n",
       "median_income         False\n",
       "median_house_value    False\n",
       "ocean_proximity       False\n",
       "dtype: bool"
      ]
     },
     "metadata": {},
     "execution_count": 9
    }
   ],
   "source": [
    "df = df.fillna(method=\"ffill\")\n",
    "pd.isnull(df).any()  # Checking for Null Values"
   ]
  },
  {
   "cell_type": "markdown",
   "metadata": {},
   "source": [
    "### Feature Engineering"
   ]
  },
  {
   "cell_type": "code",
   "execution_count": 10,
   "metadata": {},
   "outputs": [],
   "source": [
    "df['avgRooms'] = df['total_rooms'] / df['households']\n",
    "df['avgBedrooms'] = df['total_bedrooms'] / df['households']\n",
    "df['pop_per_household'] = df['population'] / df['households']"
   ]
  },
  {
   "cell_type": "markdown",
   "metadata": {},
   "source": [
    "I have added more number of features which can help with the proper distribution and predicting better values in our model\n",
    "<li>Average Rooms per House</li>\n",
    "<li>Average Bedrooms per House</li>\n",
    "<li>Number of people per household</li>"
   ]
  },
  {
   "cell_type": "markdown",
   "metadata": {},
   "source": [
    "### Feature Engineering: Dummy Variable"
   ]
  },
  {
   "cell_type": "markdown",
   "metadata": {},
   "source": [
    "I have created a dummy variable inorder to categorize the ocean proximity attribute in the dataset."
   ]
  },
  {
   "cell_type": "code",
   "execution_count": 11,
   "metadata": {},
   "outputs": [],
   "source": [
    "dum = pd.get_dummies(df.ocean_proximity)"
   ]
  },
  {
   "cell_type": "code",
   "execution_count": 12,
   "metadata": {},
   "outputs": [],
   "source": [
    "merged_df = pd.concat([df, dum], axis = 'columns')"
   ]
  },
  {
   "cell_type": "code",
   "execution_count": 13,
   "metadata": {},
   "outputs": [
    {
     "output_type": "execute_result",
     "data": {
      "text/plain": [
       "   longitude  latitude  housing_median_age  total_rooms  total_bedrooms  \\\n",
       "0    -122.23     37.88                41.0        880.0           129.0   \n",
       "1    -122.22     37.86                21.0       7099.0          1106.0   \n",
       "2    -122.24     37.85                52.0       1467.0           190.0   \n",
       "3    -122.25     37.85                52.0       1274.0           235.0   \n",
       "4    -122.25     37.85                52.0       1627.0           280.0   \n",
       "\n",
       "   population  households  median_income  median_house_value  avgRooms  \\\n",
       "0       322.0       126.0         8.3252            452600.0  6.984127   \n",
       "1      2401.0      1138.0         8.3014            358500.0  6.238137   \n",
       "2       496.0       177.0         7.2574            352100.0  8.288136   \n",
       "3       558.0       219.0         5.6431            341300.0  5.817352   \n",
       "4       565.0       259.0         3.8462            342200.0  6.281853   \n",
       "\n",
       "   avgBedrooms  pop_per_household  <1H OCEAN  INLAND  NEAR BAY  NEAR OCEAN  \n",
       "0     1.023810           2.555556          0       0         1           0  \n",
       "1     0.971880           2.109842          0       0         1           0  \n",
       "2     1.073446           2.802260          0       0         1           0  \n",
       "3     1.073059           2.547945          0       0         1           0  \n",
       "4     1.081081           2.181467          0       0         1           0  "
      ],
      "text/html": "<div>\n<style scoped>\n    .dataframe tbody tr th:only-of-type {\n        vertical-align: middle;\n    }\n\n    .dataframe tbody tr th {\n        vertical-align: top;\n    }\n\n    .dataframe thead th {\n        text-align: right;\n    }\n</style>\n<table border=\"1\" class=\"dataframe\">\n  <thead>\n    <tr style=\"text-align: right;\">\n      <th></th>\n      <th>longitude</th>\n      <th>latitude</th>\n      <th>housing_median_age</th>\n      <th>total_rooms</th>\n      <th>total_bedrooms</th>\n      <th>population</th>\n      <th>households</th>\n      <th>median_income</th>\n      <th>median_house_value</th>\n      <th>avgRooms</th>\n      <th>avgBedrooms</th>\n      <th>pop_per_household</th>\n      <th>&lt;1H OCEAN</th>\n      <th>INLAND</th>\n      <th>NEAR BAY</th>\n      <th>NEAR OCEAN</th>\n    </tr>\n  </thead>\n  <tbody>\n    <tr>\n      <th>0</th>\n      <td>-122.23</td>\n      <td>37.88</td>\n      <td>41.0</td>\n      <td>880.0</td>\n      <td>129.0</td>\n      <td>322.0</td>\n      <td>126.0</td>\n      <td>8.3252</td>\n      <td>452600.0</td>\n      <td>6.984127</td>\n      <td>1.023810</td>\n      <td>2.555556</td>\n      <td>0</td>\n      <td>0</td>\n      <td>1</td>\n      <td>0</td>\n    </tr>\n    <tr>\n      <th>1</th>\n      <td>-122.22</td>\n      <td>37.86</td>\n      <td>21.0</td>\n      <td>7099.0</td>\n      <td>1106.0</td>\n      <td>2401.0</td>\n      <td>1138.0</td>\n      <td>8.3014</td>\n      <td>358500.0</td>\n      <td>6.238137</td>\n      <td>0.971880</td>\n      <td>2.109842</td>\n      <td>0</td>\n      <td>0</td>\n      <td>1</td>\n      <td>0</td>\n    </tr>\n    <tr>\n      <th>2</th>\n      <td>-122.24</td>\n      <td>37.85</td>\n      <td>52.0</td>\n      <td>1467.0</td>\n      <td>190.0</td>\n      <td>496.0</td>\n      <td>177.0</td>\n      <td>7.2574</td>\n      <td>352100.0</td>\n      <td>8.288136</td>\n      <td>1.073446</td>\n      <td>2.802260</td>\n      <td>0</td>\n      <td>0</td>\n      <td>1</td>\n      <td>0</td>\n    </tr>\n    <tr>\n      <th>3</th>\n      <td>-122.25</td>\n      <td>37.85</td>\n      <td>52.0</td>\n      <td>1274.0</td>\n      <td>235.0</td>\n      <td>558.0</td>\n      <td>219.0</td>\n      <td>5.6431</td>\n      <td>341300.0</td>\n      <td>5.817352</td>\n      <td>1.073059</td>\n      <td>2.547945</td>\n      <td>0</td>\n      <td>0</td>\n      <td>1</td>\n      <td>0</td>\n    </tr>\n    <tr>\n      <th>4</th>\n      <td>-122.25</td>\n      <td>37.85</td>\n      <td>52.0</td>\n      <td>1627.0</td>\n      <td>280.0</td>\n      <td>565.0</td>\n      <td>259.0</td>\n      <td>3.8462</td>\n      <td>342200.0</td>\n      <td>6.281853</td>\n      <td>1.081081</td>\n      <td>2.181467</td>\n      <td>0</td>\n      <td>0</td>\n      <td>1</td>\n      <td>0</td>\n    </tr>\n  </tbody>\n</table>\n</div>"
     },
     "metadata": {},
     "execution_count": 13
    }
   ],
   "source": [
    "merged_df = merged_df.drop(['ocean_proximity', 'ISLAND'], axis= 'columns')\n",
    "merged_df.head()"
   ]
  },
  {
   "cell_type": "code",
   "execution_count": 14,
   "metadata": {},
   "outputs": [],
   "source": [
    "X = merged_df.drop('median_house_value', axis= 'columns')\n",
    "y = merged_df['median_house_value']"
   ]
  },
  {
   "cell_type": "markdown",
   "metadata": {},
   "source": [
    "## Training and Test Dataset Split"
   ]
  },
  {
   "cell_type": "code",
   "execution_count": 15,
   "metadata": {},
   "outputs": [],
   "source": [
    "prices = merged_df['median_house_value']\n",
    "features = merged_df.drop('median_house_value', axis = 1)\n",
    "\n",
    "X_train, X_test, y_train, y_test = train_test_split(features, prices, test_size = 0.2)\n",
    "\n",
    "#len(X_train)/len(features)"
   ]
  },
  {
   "cell_type": "code",
   "execution_count": 16,
   "metadata": {},
   "outputs": [
    {
     "output_type": "stream",
     "name": "stdout",
     "text": [
      "Intercept -2248891.016222005\n"
     ]
    },
    {
     "output_type": "execute_result",
     "data": {
      "text/plain": [
       "                             Coef\n",
       "longitude           -28509.315578\n",
       "latitude            -27555.910579\n",
       "housing_median_age    1004.781233\n",
       "total_rooms             -2.165877\n",
       "total_bedrooms          38.834678\n",
       "population             -47.513245\n",
       "households             117.615799\n",
       "median_income        38314.862941\n",
       "avgRooms              -683.332460\n",
       "avgBedrooms          10791.962057\n",
       "pop_per_household      136.487790\n",
       "<1H OCEAN          -150778.805722\n",
       "INLAND             -189282.389533\n",
       "NEAR BAY           -155105.359687\n",
       "NEAR OCEAN         -148671.706392"
      ],
      "text/html": "<div>\n<style scoped>\n    .dataframe tbody tr th:only-of-type {\n        vertical-align: middle;\n    }\n\n    .dataframe tbody tr th {\n        vertical-align: top;\n    }\n\n    .dataframe thead th {\n        text-align: right;\n    }\n</style>\n<table border=\"1\" class=\"dataframe\">\n  <thead>\n    <tr style=\"text-align: right;\">\n      <th></th>\n      <th>Coef</th>\n    </tr>\n  </thead>\n  <tbody>\n    <tr>\n      <th>longitude</th>\n      <td>-28509.315578</td>\n    </tr>\n    <tr>\n      <th>latitude</th>\n      <td>-27555.910579</td>\n    </tr>\n    <tr>\n      <th>housing_median_age</th>\n      <td>1004.781233</td>\n    </tr>\n    <tr>\n      <th>total_rooms</th>\n      <td>-2.165877</td>\n    </tr>\n    <tr>\n      <th>total_bedrooms</th>\n      <td>38.834678</td>\n    </tr>\n    <tr>\n      <th>population</th>\n      <td>-47.513245</td>\n    </tr>\n    <tr>\n      <th>households</th>\n      <td>117.615799</td>\n    </tr>\n    <tr>\n      <th>median_income</th>\n      <td>38314.862941</td>\n    </tr>\n    <tr>\n      <th>avgRooms</th>\n      <td>-683.332460</td>\n    </tr>\n    <tr>\n      <th>avgBedrooms</th>\n      <td>10791.962057</td>\n    </tr>\n    <tr>\n      <th>pop_per_household</th>\n      <td>136.487790</td>\n    </tr>\n    <tr>\n      <th>&lt;1H OCEAN</th>\n      <td>-150778.805722</td>\n    </tr>\n    <tr>\n      <th>INLAND</th>\n      <td>-189282.389533</td>\n    </tr>\n    <tr>\n      <th>NEAR BAY</th>\n      <td>-155105.359687</td>\n    </tr>\n    <tr>\n      <th>NEAR OCEAN</th>\n      <td>-148671.706392</td>\n    </tr>\n  </tbody>\n</table>\n</div>"
     },
     "metadata": {},
     "execution_count": 16
    }
   ],
   "source": [
    "regr = LinearRegression()\n",
    "regr.fit(X_train, y_train)\n",
    "\n",
    "print('Intercept', regr.intercept_)\n",
    "pd.DataFrame(data = regr.coef_, index=X_train.columns, columns = ['Coef'])"
   ]
  },
  {
   "cell_type": "code",
   "execution_count": 17,
   "metadata": {},
   "outputs": [
    {
     "output_type": "execute_result",
     "data": {
      "text/plain": [
       "0.6475739471000801"
      ]
     },
     "metadata": {},
     "execution_count": 17
    }
   ],
   "source": [
    "regr.score(X_train, y_train)"
   ]
  },
  {
   "cell_type": "code",
   "execution_count": 18,
   "metadata": {},
   "outputs": [
    {
     "output_type": "execute_result",
     "data": {
      "text/plain": [
       "LinearRegression()"
      ]
     },
     "metadata": {},
     "execution_count": 18
    }
   ],
   "source": [
    "pickle.dump(regr, open('model.pkl','wb'))\n",
    "pickle.load(open('model.pkl','rb'))"
   ]
  },
  {
   "cell_type": "code",
   "execution_count": 19,
   "metadata": {},
   "outputs": [
    {
     "output_type": "execute_result",
     "data": {
      "text/plain": [
       "(16512, 15)"
      ]
     },
     "metadata": {},
     "execution_count": 19
    }
   ],
   "source": [
    "X_train.shape"
   ]
  },
  {
   "cell_type": "code",
   "execution_count": 20,
   "metadata": {},
   "outputs": [
    {
     "output_type": "execute_result",
     "data": {
      "text/plain": [
       "Index(['longitude', 'latitude', 'housing_median_age', 'total_rooms',\n",
       "       'total_bedrooms', 'population', 'households', 'median_income',\n",
       "       'avgRooms', 'avgBedrooms', 'pop_per_household', '<1H OCEAN', 'INLAND',\n",
       "       'NEAR BAY', 'NEAR OCEAN'],\n",
       "      dtype='object')"
      ]
     },
     "metadata": {},
     "execution_count": 20
    }
   ],
   "source": [
    "X_train.columns"
   ]
  },
  {
   "cell_type": "code",
   "execution_count": 24,
   "metadata": {},
   "outputs": [
    {
     "output_type": "execute_result",
     "data": {
      "text/plain": [
       "       longitude  latitude  housing_median_age  total_rooms  total_bedrooms  \\\n",
       "4645     -118.31     34.06                47.0       3038.0          1533.0   \n",
       "7726     -118.12     33.92                27.0       6336.0          1628.0   \n",
       "9259     -120.07     36.96                42.0        963.0           216.0   \n",
       "3434     -118.43     34.25                35.0       1447.0           335.0   \n",
       "560      -122.24     37.76                52.0       1846.0           471.0   \n",
       "...          ...       ...                 ...          ...             ...   \n",
       "4083     -118.38     34.15                36.0       2933.0           619.0   \n",
       "9674     -118.74     37.58                20.0       3301.0           779.0   \n",
       "9950     -122.33     38.38                28.0       1020.0           169.0   \n",
       "12149    -117.20     33.70                23.0       6323.0          1196.0   \n",
       "2334     -119.69     36.83                32.0       1098.0           189.0   \n",
       "\n",
       "       population  households  median_income  avgRooms  avgBedrooms  \\\n",
       "4645       4225.0      1472.0         1.6725  2.063859     1.041440   \n",
       "7726       4673.0      1505.0         2.5893  4.209967     1.081728   \n",
       "9259        471.0       211.0         2.2898  4.563981     1.023697   \n",
       "3434       1630.0       306.0         2.9205  4.728758     1.094771   \n",
       "560         827.0       446.0         2.6833  4.139013     1.056054   \n",
       "...           ...         ...            ...       ...          ...   \n",
       "4083       1115.0       579.0         4.3036  5.065630     1.069085   \n",
       "9674       1085.0       448.0         3.7315  7.368304     1.738839   \n",
       "9950        504.0       164.0         4.5694  6.219512     1.030488   \n",
       "12149      1984.0      1124.0         2.3276  5.625445     1.064057   \n",
       "2334        726.0       224.0         1.4913  4.901786     0.843750   \n",
       "\n",
       "       pop_per_household  <1H OCEAN  INLAND  NEAR BAY  NEAR OCEAN  \n",
       "4645            2.870245          1       0         0           0  \n",
       "7726            3.104983          1       0         0           0  \n",
       "9259            2.232227          0       1         0           0  \n",
       "3434            5.326797          1       0         0           0  \n",
       "560             1.854260          0       0         1           0  \n",
       "...                  ...        ...     ...       ...         ...  \n",
       "4083            1.925734          1       0         0           0  \n",
       "9674            2.421875          0       1         0           0  \n",
       "9950            3.073171          0       1         0           0  \n",
       "12149           1.765125          1       0         0           0  \n",
       "2334            3.241071          0       1         0           0  \n",
       "\n",
       "[16512 rows x 15 columns]"
      ],
      "text/html": "<div>\n<style scoped>\n    .dataframe tbody tr th:only-of-type {\n        vertical-align: middle;\n    }\n\n    .dataframe tbody tr th {\n        vertical-align: top;\n    }\n\n    .dataframe thead th {\n        text-align: right;\n    }\n</style>\n<table border=\"1\" class=\"dataframe\">\n  <thead>\n    <tr style=\"text-align: right;\">\n      <th></th>\n      <th>longitude</th>\n      <th>latitude</th>\n      <th>housing_median_age</th>\n      <th>total_rooms</th>\n      <th>total_bedrooms</th>\n      <th>population</th>\n      <th>households</th>\n      <th>median_income</th>\n      <th>avgRooms</th>\n      <th>avgBedrooms</th>\n      <th>pop_per_household</th>\n      <th>&lt;1H OCEAN</th>\n      <th>INLAND</th>\n      <th>NEAR BAY</th>\n      <th>NEAR OCEAN</th>\n    </tr>\n  </thead>\n  <tbody>\n    <tr>\n      <th>4645</th>\n      <td>-118.31</td>\n      <td>34.06</td>\n      <td>47.0</td>\n      <td>3038.0</td>\n      <td>1533.0</td>\n      <td>4225.0</td>\n      <td>1472.0</td>\n      <td>1.6725</td>\n      <td>2.063859</td>\n      <td>1.041440</td>\n      <td>2.870245</td>\n      <td>1</td>\n      <td>0</td>\n      <td>0</td>\n      <td>0</td>\n    </tr>\n    <tr>\n      <th>7726</th>\n      <td>-118.12</td>\n      <td>33.92</td>\n      <td>27.0</td>\n      <td>6336.0</td>\n      <td>1628.0</td>\n      <td>4673.0</td>\n      <td>1505.0</td>\n      <td>2.5893</td>\n      <td>4.209967</td>\n      <td>1.081728</td>\n      <td>3.104983</td>\n      <td>1</td>\n      <td>0</td>\n      <td>0</td>\n      <td>0</td>\n    </tr>\n    <tr>\n      <th>9259</th>\n      <td>-120.07</td>\n      <td>36.96</td>\n      <td>42.0</td>\n      <td>963.0</td>\n      <td>216.0</td>\n      <td>471.0</td>\n      <td>211.0</td>\n      <td>2.2898</td>\n      <td>4.563981</td>\n      <td>1.023697</td>\n      <td>2.232227</td>\n      <td>0</td>\n      <td>1</td>\n      <td>0</td>\n      <td>0</td>\n    </tr>\n    <tr>\n      <th>3434</th>\n      <td>-118.43</td>\n      <td>34.25</td>\n      <td>35.0</td>\n      <td>1447.0</td>\n      <td>335.0</td>\n      <td>1630.0</td>\n      <td>306.0</td>\n      <td>2.9205</td>\n      <td>4.728758</td>\n      <td>1.094771</td>\n      <td>5.326797</td>\n      <td>1</td>\n      <td>0</td>\n      <td>0</td>\n      <td>0</td>\n    </tr>\n    <tr>\n      <th>560</th>\n      <td>-122.24</td>\n      <td>37.76</td>\n      <td>52.0</td>\n      <td>1846.0</td>\n      <td>471.0</td>\n      <td>827.0</td>\n      <td>446.0</td>\n      <td>2.6833</td>\n      <td>4.139013</td>\n      <td>1.056054</td>\n      <td>1.854260</td>\n      <td>0</td>\n      <td>0</td>\n      <td>1</td>\n      <td>0</td>\n    </tr>\n    <tr>\n      <th>...</th>\n      <td>...</td>\n      <td>...</td>\n      <td>...</td>\n      <td>...</td>\n      <td>...</td>\n      <td>...</td>\n      <td>...</td>\n      <td>...</td>\n      <td>...</td>\n      <td>...</td>\n      <td>...</td>\n      <td>...</td>\n      <td>...</td>\n      <td>...</td>\n      <td>...</td>\n    </tr>\n    <tr>\n      <th>4083</th>\n      <td>-118.38</td>\n      <td>34.15</td>\n      <td>36.0</td>\n      <td>2933.0</td>\n      <td>619.0</td>\n      <td>1115.0</td>\n      <td>579.0</td>\n      <td>4.3036</td>\n      <td>5.065630</td>\n      <td>1.069085</td>\n      <td>1.925734</td>\n      <td>1</td>\n      <td>0</td>\n      <td>0</td>\n      <td>0</td>\n    </tr>\n    <tr>\n      <th>9674</th>\n      <td>-118.74</td>\n      <td>37.58</td>\n      <td>20.0</td>\n      <td>3301.0</td>\n      <td>779.0</td>\n      <td>1085.0</td>\n      <td>448.0</td>\n      <td>3.7315</td>\n      <td>7.368304</td>\n      <td>1.738839</td>\n      <td>2.421875</td>\n      <td>0</td>\n      <td>1</td>\n      <td>0</td>\n      <td>0</td>\n    </tr>\n    <tr>\n      <th>9950</th>\n      <td>-122.33</td>\n      <td>38.38</td>\n      <td>28.0</td>\n      <td>1020.0</td>\n      <td>169.0</td>\n      <td>504.0</td>\n      <td>164.0</td>\n      <td>4.5694</td>\n      <td>6.219512</td>\n      <td>1.030488</td>\n      <td>3.073171</td>\n      <td>0</td>\n      <td>1</td>\n      <td>0</td>\n      <td>0</td>\n    </tr>\n    <tr>\n      <th>12149</th>\n      <td>-117.20</td>\n      <td>33.70</td>\n      <td>23.0</td>\n      <td>6323.0</td>\n      <td>1196.0</td>\n      <td>1984.0</td>\n      <td>1124.0</td>\n      <td>2.3276</td>\n      <td>5.625445</td>\n      <td>1.064057</td>\n      <td>1.765125</td>\n      <td>1</td>\n      <td>0</td>\n      <td>0</td>\n      <td>0</td>\n    </tr>\n    <tr>\n      <th>2334</th>\n      <td>-119.69</td>\n      <td>36.83</td>\n      <td>32.0</td>\n      <td>1098.0</td>\n      <td>189.0</td>\n      <td>726.0</td>\n      <td>224.0</td>\n      <td>1.4913</td>\n      <td>4.901786</td>\n      <td>0.843750</td>\n      <td>3.241071</td>\n      <td>0</td>\n      <td>1</td>\n      <td>0</td>\n      <td>0</td>\n    </tr>\n  </tbody>\n</table>\n<p>16512 rows × 15 columns</p>\n</div>"
     },
     "metadata": {},
     "execution_count": 24
    }
   ],
   "source": [
    "X_train"
   ]
  },
  {
   "cell_type": "code",
   "execution_count": 25,
   "metadata": {},
   "outputs": [
    {
     "output_type": "execute_result",
     "data": {
      "text/plain": [
       "<bound method DataFrame.info of        longitude  latitude  housing_median_age  total_rooms  total_bedrooms  \\\n",
       "4645     -118.31     34.06                47.0       3038.0          1533.0   \n",
       "7726     -118.12     33.92                27.0       6336.0          1628.0   \n",
       "9259     -120.07     36.96                42.0        963.0           216.0   \n",
       "3434     -118.43     34.25                35.0       1447.0           335.0   \n",
       "560      -122.24     37.76                52.0       1846.0           471.0   \n",
       "...          ...       ...                 ...          ...             ...   \n",
       "4083     -118.38     34.15                36.0       2933.0           619.0   \n",
       "9674     -118.74     37.58                20.0       3301.0           779.0   \n",
       "9950     -122.33     38.38                28.0       1020.0           169.0   \n",
       "12149    -117.20     33.70                23.0       6323.0          1196.0   \n",
       "2334     -119.69     36.83                32.0       1098.0           189.0   \n",
       "\n",
       "       population  households  median_income  avgRooms  avgBedrooms  \\\n",
       "4645       4225.0      1472.0         1.6725  2.063859     1.041440   \n",
       "7726       4673.0      1505.0         2.5893  4.209967     1.081728   \n",
       "9259        471.0       211.0         2.2898  4.563981     1.023697   \n",
       "3434       1630.0       306.0         2.9205  4.728758     1.094771   \n",
       "560         827.0       446.0         2.6833  4.139013     1.056054   \n",
       "...           ...         ...            ...       ...          ...   \n",
       "4083       1115.0       579.0         4.3036  5.065630     1.069085   \n",
       "9674       1085.0       448.0         3.7315  7.368304     1.738839   \n",
       "9950        504.0       164.0         4.5694  6.219512     1.030488   \n",
       "12149      1984.0      1124.0         2.3276  5.625445     1.064057   \n",
       "2334        726.0       224.0         1.4913  4.901786     0.843750   \n",
       "\n",
       "       pop_per_household  <1H OCEAN  INLAND  NEAR BAY  NEAR OCEAN  \n",
       "4645            2.870245          1       0         0           0  \n",
       "7726            3.104983          1       0         0           0  \n",
       "9259            2.232227          0       1         0           0  \n",
       "3434            5.326797          1       0         0           0  \n",
       "560             1.854260          0       0         1           0  \n",
       "...                  ...        ...     ...       ...         ...  \n",
       "4083            1.925734          1       0         0           0  \n",
       "9674            2.421875          0       1         0           0  \n",
       "9950            3.073171          0       1         0           0  \n",
       "12149           1.765125          1       0         0           0  \n",
       "2334            3.241071          0       1         0           0  \n",
       "\n",
       "[16512 rows x 15 columns]>"
      ]
     },
     "metadata": {},
     "execution_count": 25
    }
   ],
   "source": [
    "X_train.info"
   ]
  },
  {
   "cell_type": "code",
   "execution_count": 21,
   "metadata": {},
   "outputs": [
    {
     "output_type": "execute_result",
     "data": {
      "text/plain": [
       "0.6330221530324702"
      ]
     },
     "metadata": {},
     "execution_count": 21
    }
   ],
   "source": [
    "regr.score(X_test, y_test)"
   ]
  },
  {
   "cell_type": "markdown",
   "metadata": {},
   "source": [
    "## We find that our model has an accuracy of around \"64.72%\"\n",
    "### We can use our model to predict the value of any house by providing the given attributes with 65% accuracy"
   ]
  }
 ],
 "metadata": {
  "kernelspec": {
   "name": "python383jvsc74a57bd0fba35ffebea2baa73c02483a80d9f6028c07422983c834d1d8944fedb01913b2",
   "display_name": "Python 3.8.3 64-bit (conda)"
  },
  "language_info": {
   "codemirror_mode": {
    "name": "ipython",
    "version": 3
   },
   "file_extension": ".py",
   "mimetype": "text/x-python",
   "name": "python",
   "nbconvert_exporter": "python",
   "pygments_lexer": "ipython3",
   "version": "3.8.3-final"
  }
 },
 "nbformat": 4,
 "nbformat_minor": 2
}