{
 "metadata": {
  "language_info": {
   "codemirror_mode": {
    "name": "ipython",
    "version": 3
   },
   "file_extension": ".py",
   "mimetype": "text/x-python",
   "name": "python",
   "nbconvert_exporter": "python",
   "pygments_lexer": "ipython3",
   "version": "3.8.3-final"
  },
  "orig_nbformat": 2,
  "kernelspec": {
   "name": "python3",
   "display_name": "Python 3.8.3 64-bit (conda)",
   "metadata": {
    "interpreter": {
     "hash": "fba35ffebea2baa73c02483a80d9f6028c07422983c834d1d8944fedb01913b2"
    }
   }
  }
 },
 "nbformat": 4,
 "nbformat_minor": 2,
 "cells": [
  {
   "source": [
    "# Data Analysis and Prediction of an \"AD CLICK\"\n",
    "## Using Decision Tree             \n",
    "\n",
    "  --Arhit Bose Tagore"
   ],
   "cell_type": "markdown",
   "metadata": {}
  },
  {
   "source": [
    "### Importing Libraries"
   ],
   "cell_type": "markdown",
   "metadata": {}
  },
  {
   "cell_type": "code",
   "execution_count": 1,
   "metadata": {},
   "outputs": [],
   "source": [
    "import pandas as pd\n",
    "import numpy as np\n",
    "import matplotlib.pyplot as plt\n",
    "import seaborn as sns\n",
    "\n",
    "%matplotlib inline\n",
    "sns.set_style('darkgrid')\n",
    "plt.style.use(\"dark_background\")"
   ]
  },
  {
   "source": [
    "### Importing the Train Dataset "
   ],
   "cell_type": "markdown",
   "metadata": {}
  },
  {
   "cell_type": "code",
   "execution_count": 2,
   "metadata": {},
   "outputs": [],
   "source": [
    "train_df = pd.read_csv(\"train_.csv\")\n",
    "df = train_df"
   ]
  },
  {
   "cell_type": "code",
   "execution_count": 3,
   "metadata": {},
   "outputs": [
    {
     "output_type": "execute_result",
     "data": {
      "text/plain": [
       "        Unnamed: 0            id  click      hour    C1  banner_pos   site_id  \\\n",
       "0                0  1.000009e+18      0  14102100  1005           0  1fbe01fe   \n",
       "1                1  1.000017e+19      0  14102100  1005           0  1fbe01fe   \n",
       "2                2  1.000037e+19      0  14102100  1005           0  1fbe01fe   \n",
       "3                3  1.000064e+19      0  14102100  1005           0  1fbe01fe   \n",
       "4                4  1.000068e+19      0  14102100  1005           1  fe8cc448   \n",
       "...            ...           ...    ...       ...   ...         ...       ...   \n",
       "499995      499995  1.311196e+19      0  14102103  1005           0  85f751fd   \n",
       "499996      499996  1.311197e+19      0  14102103  1005           1  d9750ee7   \n",
       "499997      499997  1.311202e+19      0  14102103  1005           0  85f751fd   \n",
       "499998      499998  1.311205e+19      0  14102103  1005           1  5b4d2eda   \n",
       "499999      499999  1.311207e+18      1  14102103  1005           0  2328ee8e   \n",
       "\n",
       "       site_domain site_category    app_id  ... device_type device_conn_type  \\\n",
       "0         f3845767      28905ebd  ecad2386  ...           1                2   \n",
       "1         f3845767      28905ebd  ecad2386  ...           1                0   \n",
       "2         f3845767      28905ebd  ecad2386  ...           1                0   \n",
       "3         f3845767      28905ebd  ecad2386  ...           1                0   \n",
       "4         9166c161      0569f928  ecad2386  ...           1                0   \n",
       "...            ...           ...       ...  ...         ...              ...   \n",
       "499995    c4e18dd6      50e219e0  53de0284  ...           1                0   \n",
       "499996    98572c79      f028772b  ecad2386  ...           1                0   \n",
       "499997    c4e18dd6      50e219e0  e2fcccd2  ...           1                0   \n",
       "499998    16a36ef3      f028772b  ecad2386  ...           1                0   \n",
       "499999    7804dea6      f028772b  ecad2386  ...           1                0   \n",
       "\n",
       "          C14  C15 C16   C17  C18   C19     C20  C21  \n",
       "0       15706  320  50  1722    0    35      -1   79  \n",
       "1       15704  320  50  1722    0    35  100084   79  \n",
       "2       15704  320  50  1722    0    35  100084   79  \n",
       "3       15706  320  50  1722    0    35  100084   79  \n",
       "4       18993  320  50  2161    0    35      -1  157  \n",
       "...       ...  ...  ..   ...  ...   ...     ...  ...  \n",
       "499995  21611  320  50  2480    3   299  100111   61  \n",
       "499996  17614  320  50  1993    2  1063      -1   33  \n",
       "499997  20633  320  50  2374    3    39      -1   23  \n",
       "499998  20355  216  36  2333    0    39  100077  157  \n",
       "499999   6563  320  50   572    2    39      -1   32  \n",
       "\n",
       "[500000 rows x 25 columns]"
      ],
      "text/html": "<div>\n<style scoped>\n    .dataframe tbody tr th:only-of-type {\n        vertical-align: middle;\n    }\n\n    .dataframe tbody tr th {\n        vertical-align: top;\n    }\n\n    .dataframe thead th {\n        text-align: right;\n    }\n</style>\n<table border=\"1\" class=\"dataframe\">\n  <thead>\n    <tr style=\"text-align: right;\">\n      <th></th>\n      <th>Unnamed: 0</th>\n      <th>id</th>\n      <th>click</th>\n      <th>hour</th>\n      <th>C1</th>\n      <th>banner_pos</th>\n      <th>site_id</th>\n      <th>site_domain</th>\n      <th>site_category</th>\n      <th>app_id</th>\n      <th>...</th>\n      <th>device_type</th>\n      <th>device_conn_type</th>\n      <th>C14</th>\n      <th>C15</th>\n      <th>C16</th>\n      <th>C17</th>\n      <th>C18</th>\n      <th>C19</th>\n      <th>C20</th>\n      <th>C21</th>\n    </tr>\n  </thead>\n  <tbody>\n    <tr>\n      <th>0</th>\n      <td>0</td>\n      <td>1.000009e+18</td>\n      <td>0</td>\n      <td>14102100</td>\n      <td>1005</td>\n      <td>0</td>\n      <td>1fbe01fe</td>\n      <td>f3845767</td>\n      <td>28905ebd</td>\n      <td>ecad2386</td>\n      <td>...</td>\n      <td>1</td>\n      <td>2</td>\n      <td>15706</td>\n      <td>320</td>\n      <td>50</td>\n      <td>1722</td>\n      <td>0</td>\n      <td>35</td>\n      <td>-1</td>\n      <td>79</td>\n    </tr>\n    <tr>\n      <th>1</th>\n      <td>1</td>\n      <td>1.000017e+19</td>\n      <td>0</td>\n      <td>14102100</td>\n      <td>1005</td>\n      <td>0</td>\n      <td>1fbe01fe</td>\n      <td>f3845767</td>\n      <td>28905ebd</td>\n      <td>ecad2386</td>\n      <td>...</td>\n      <td>1</td>\n      <td>0</td>\n      <td>15704</td>\n      <td>320</td>\n      <td>50</td>\n      <td>1722</td>\n      <td>0</td>\n      <td>35</td>\n      <td>100084</td>\n      <td>79</td>\n    </tr>\n    <tr>\n      <th>2</th>\n      <td>2</td>\n      <td>1.000037e+19</td>\n      <td>0</td>\n      <td>14102100</td>\n      <td>1005</td>\n      <td>0</td>\n      <td>1fbe01fe</td>\n      <td>f3845767</td>\n      <td>28905ebd</td>\n      <td>ecad2386</td>\n      <td>...</td>\n      <td>1</td>\n      <td>0</td>\n      <td>15704</td>\n      <td>320</td>\n      <td>50</td>\n      <td>1722</td>\n      <td>0</td>\n      <td>35</td>\n      <td>100084</td>\n      <td>79</td>\n    </tr>\n    <tr>\n      <th>3</th>\n      <td>3</td>\n      <td>1.000064e+19</td>\n      <td>0</td>\n      <td>14102100</td>\n      <td>1005</td>\n      <td>0</td>\n      <td>1fbe01fe</td>\n      <td>f3845767</td>\n      <td>28905ebd</td>\n      <td>ecad2386</td>\n      <td>...</td>\n      <td>1</td>\n      <td>0</td>\n      <td>15706</td>\n      <td>320</td>\n      <td>50</td>\n      <td>1722</td>\n      <td>0</td>\n      <td>35</td>\n      <td>100084</td>\n      <td>79</td>\n    </tr>\n    <tr>\n      <th>4</th>\n      <td>4</td>\n      <td>1.000068e+19</td>\n      <td>0</td>\n      <td>14102100</td>\n      <td>1005</td>\n      <td>1</td>\n      <td>fe8cc448</td>\n      <td>9166c161</td>\n      <td>0569f928</td>\n      <td>ecad2386</td>\n      <td>...</td>\n      <td>1</td>\n      <td>0</td>\n      <td>18993</td>\n      <td>320</td>\n      <td>50</td>\n      <td>2161</td>\n      <td>0</td>\n      <td>35</td>\n      <td>-1</td>\n      <td>157</td>\n    </tr>\n    <tr>\n      <th>...</th>\n      <td>...</td>\n      <td>...</td>\n      <td>...</td>\n      <td>...</td>\n      <td>...</td>\n      <td>...</td>\n      <td>...</td>\n      <td>...</td>\n      <td>...</td>\n      <td>...</td>\n      <td>...</td>\n      <td>...</td>\n      <td>...</td>\n      <td>...</td>\n      <td>...</td>\n      <td>...</td>\n      <td>...</td>\n      <td>...</td>\n      <td>...</td>\n      <td>...</td>\n      <td>...</td>\n    </tr>\n    <tr>\n      <th>499995</th>\n      <td>499995</td>\n      <td>1.311196e+19</td>\n      <td>0</td>\n      <td>14102103</td>\n      <td>1005</td>\n      <td>0</td>\n      <td>85f751fd</td>\n      <td>c4e18dd6</td>\n      <td>50e219e0</td>\n      <td>53de0284</td>\n      <td>...</td>\n      <td>1</td>\n      <td>0</td>\n      <td>21611</td>\n      <td>320</td>\n      <td>50</td>\n      <td>2480</td>\n      <td>3</td>\n      <td>299</td>\n      <td>100111</td>\n      <td>61</td>\n    </tr>\n    <tr>\n      <th>499996</th>\n      <td>499996</td>\n      <td>1.311197e+19</td>\n      <td>0</td>\n      <td>14102103</td>\n      <td>1005</td>\n      <td>1</td>\n      <td>d9750ee7</td>\n      <td>98572c79</td>\n      <td>f028772b</td>\n      <td>ecad2386</td>\n      <td>...</td>\n      <td>1</td>\n      <td>0</td>\n      <td>17614</td>\n      <td>320</td>\n      <td>50</td>\n      <td>1993</td>\n      <td>2</td>\n      <td>1063</td>\n      <td>-1</td>\n      <td>33</td>\n    </tr>\n    <tr>\n      <th>499997</th>\n      <td>499997</td>\n      <td>1.311202e+19</td>\n      <td>0</td>\n      <td>14102103</td>\n      <td>1005</td>\n      <td>0</td>\n      <td>85f751fd</td>\n      <td>c4e18dd6</td>\n      <td>50e219e0</td>\n      <td>e2fcccd2</td>\n      <td>...</td>\n      <td>1</td>\n      <td>0</td>\n      <td>20633</td>\n      <td>320</td>\n      <td>50</td>\n      <td>2374</td>\n      <td>3</td>\n      <td>39</td>\n      <td>-1</td>\n      <td>23</td>\n    </tr>\n    <tr>\n      <th>499998</th>\n      <td>499998</td>\n      <td>1.311205e+19</td>\n      <td>0</td>\n      <td>14102103</td>\n      <td>1005</td>\n      <td>1</td>\n      <td>5b4d2eda</td>\n      <td>16a36ef3</td>\n      <td>f028772b</td>\n      <td>ecad2386</td>\n      <td>...</td>\n      <td>1</td>\n      <td>0</td>\n      <td>20355</td>\n      <td>216</td>\n      <td>36</td>\n      <td>2333</td>\n      <td>0</td>\n      <td>39</td>\n      <td>100077</td>\n      <td>157</td>\n    </tr>\n    <tr>\n      <th>499999</th>\n      <td>499999</td>\n      <td>1.311207e+18</td>\n      <td>1</td>\n      <td>14102103</td>\n      <td>1005</td>\n      <td>0</td>\n      <td>2328ee8e</td>\n      <td>7804dea6</td>\n      <td>f028772b</td>\n      <td>ecad2386</td>\n      <td>...</td>\n      <td>1</td>\n      <td>0</td>\n      <td>6563</td>\n      <td>320</td>\n      <td>50</td>\n      <td>572</td>\n      <td>2</td>\n      <td>39</td>\n      <td>-1</td>\n      <td>32</td>\n    </tr>\n  </tbody>\n</table>\n<p>500000 rows × 25 columns</p>\n</div>"
     },
     "metadata": {},
     "execution_count": 3
    }
   ],
   "source": [
    "train_df"
   ]
  },
  {
   "cell_type": "code",
   "execution_count": 4,
   "metadata": {},
   "outputs": [
    {
     "output_type": "execute_result",
     "data": {
      "text/plain": [
       "False"
      ]
     },
     "metadata": {},
     "execution_count": 4
    }
   ],
   "source": [
    "df = df.drop_duplicates() \n",
    "df.duplicated().values.any()  #Finding any duplicates"
   ]
  },
  {
   "cell_type": "code",
   "execution_count": 5,
   "metadata": {},
   "outputs": [
    {
     "output_type": "execute_result",
     "data": {
      "text/plain": [
       "Unnamed: 0          False\n",
       "id                  False\n",
       "click               False\n",
       "hour                False\n",
       "C1                  False\n",
       "banner_pos          False\n",
       "site_id             False\n",
       "site_domain         False\n",
       "site_category       False\n",
       "app_id              False\n",
       "app_domain          False\n",
       "app_category        False\n",
       "device_id           False\n",
       "device_ip           False\n",
       "device_model        False\n",
       "device_type         False\n",
       "device_conn_type    False\n",
       "C14                 False\n",
       "C15                 False\n",
       "C16                 False\n",
       "C17                 False\n",
       "C18                 False\n",
       "C19                 False\n",
       "C20                 False\n",
       "C21                 False\n",
       "dtype: bool"
      ]
     },
     "metadata": {},
     "execution_count": 5
    }
   ],
   "source": [
    "df = df.fillna(method=\"ffill\")\n",
    "pd.isnull(df).any()  # Checking for Null Values"
   ]
  },
  {
   "cell_type": "code",
   "execution_count": 6,
   "metadata": {},
   "outputs": [],
   "source": [
    "def to_date_column(df):\n",
    "    df[\"dt_hour\"] = pd.to_datetime(df[\"hour\"], format=\"%y%m%d%H\")\n",
    "    df[\"year\"] = df[\"dt_hour\"].dt.year\n",
    "    df[\"month\"] = df[\"dt_hour\"].dt.month\n",
    "    df[\"day\"] = df[\"dt_hour\"].dt.day\n",
    "    df[\"int_hour\"] = df[\"dt_hour\"].dt.hour\n",
    "    df[\"is_weekday\"] = df[\"dt_hour\"].dt.dayofweek\n",
    "    df[\"is_weekend\"] = df.apply(lambda x: x[\"is_weekday\"] in [5, 6], axis=1)\n",
    "to_date_column(df)"
   ]
  },
  {
   "cell_type": "code",
   "execution_count": 7,
   "metadata": {},
   "outputs": [],
   "source": [
    "df = df.drop(['Unnamed: 0'], axis=1)"
   ]
  },
  {
   "cell_type": "code",
   "execution_count": 8,
   "metadata": {},
   "outputs": [
    {
     "output_type": "execute_result",
     "data": {
      "text/plain": [
       "             id  click      hour    C1  banner_pos   site_id site_domain  \\\n",
       "0  1.000009e+18      0  14102100  1005           0  1fbe01fe    f3845767   \n",
       "1  1.000017e+19      0  14102100  1005           0  1fbe01fe    f3845767   \n",
       "2  1.000037e+19      0  14102100  1005           0  1fbe01fe    f3845767   \n",
       "3  1.000064e+19      0  14102100  1005           0  1fbe01fe    f3845767   \n",
       "4  1.000068e+19      0  14102100  1005           1  fe8cc448    9166c161   \n",
       "\n",
       "  site_category    app_id app_domain  ... C19     C20  C21    dt_hour  year  \\\n",
       "0      28905ebd  ecad2386   7801e8d9  ...  35      -1   79 2014-10-21  2014   \n",
       "1      28905ebd  ecad2386   7801e8d9  ...  35  100084   79 2014-10-21  2014   \n",
       "2      28905ebd  ecad2386   7801e8d9  ...  35  100084   79 2014-10-21  2014   \n",
       "3      28905ebd  ecad2386   7801e8d9  ...  35  100084   79 2014-10-21  2014   \n",
       "4      0569f928  ecad2386   7801e8d9  ...  35      -1  157 2014-10-21  2014   \n",
       "\n",
       "   month  day  int_hour  is_weekday  is_weekend  \n",
       "0     10   21         0           1       False  \n",
       "1     10   21         0           1       False  \n",
       "2     10   21         0           1       False  \n",
       "3     10   21         0           1       False  \n",
       "4     10   21         0           1       False  \n",
       "\n",
       "[5 rows x 31 columns]"
      ],
      "text/html": "<div>\n<style scoped>\n    .dataframe tbody tr th:only-of-type {\n        vertical-align: middle;\n    }\n\n    .dataframe tbody tr th {\n        vertical-align: top;\n    }\n\n    .dataframe thead th {\n        text-align: right;\n    }\n</style>\n<table border=\"1\" class=\"dataframe\">\n  <thead>\n    <tr style=\"text-align: right;\">\n      <th></th>\n      <th>id</th>\n      <th>click</th>\n      <th>hour</th>\n      <th>C1</th>\n      <th>banner_pos</th>\n      <th>site_id</th>\n      <th>site_domain</th>\n      <th>site_category</th>\n      <th>app_id</th>\n      <th>app_domain</th>\n      <th>...</th>\n      <th>C19</th>\n      <th>C20</th>\n      <th>C21</th>\n      <th>dt_hour</th>\n      <th>year</th>\n      <th>month</th>\n      <th>day</th>\n      <th>int_hour</th>\n      <th>is_weekday</th>\n      <th>is_weekend</th>\n    </tr>\n  </thead>\n  <tbody>\n    <tr>\n      <th>0</th>\n      <td>1.000009e+18</td>\n      <td>0</td>\n      <td>14102100</td>\n      <td>1005</td>\n      <td>0</td>\n      <td>1fbe01fe</td>\n      <td>f3845767</td>\n      <td>28905ebd</td>\n      <td>ecad2386</td>\n      <td>7801e8d9</td>\n      <td>...</td>\n      <td>35</td>\n      <td>-1</td>\n      <td>79</td>\n      <td>2014-10-21</td>\n      <td>2014</td>\n      <td>10</td>\n      <td>21</td>\n      <td>0</td>\n      <td>1</td>\n      <td>False</td>\n    </tr>\n    <tr>\n      <th>1</th>\n      <td>1.000017e+19</td>\n      <td>0</td>\n      <td>14102100</td>\n      <td>1005</td>\n      <td>0</td>\n      <td>1fbe01fe</td>\n      <td>f3845767</td>\n      <td>28905ebd</td>\n      <td>ecad2386</td>\n      <td>7801e8d9</td>\n      <td>...</td>\n      <td>35</td>\n      <td>100084</td>\n      <td>79</td>\n      <td>2014-10-21</td>\n      <td>2014</td>\n      <td>10</td>\n      <td>21</td>\n      <td>0</td>\n      <td>1</td>\n      <td>False</td>\n    </tr>\n    <tr>\n      <th>2</th>\n      <td>1.000037e+19</td>\n      <td>0</td>\n      <td>14102100</td>\n      <td>1005</td>\n      <td>0</td>\n      <td>1fbe01fe</td>\n      <td>f3845767</td>\n      <td>28905ebd</td>\n      <td>ecad2386</td>\n      <td>7801e8d9</td>\n      <td>...</td>\n      <td>35</td>\n      <td>100084</td>\n      <td>79</td>\n      <td>2014-10-21</td>\n      <td>2014</td>\n      <td>10</td>\n      <td>21</td>\n      <td>0</td>\n      <td>1</td>\n      <td>False</td>\n    </tr>\n    <tr>\n      <th>3</th>\n      <td>1.000064e+19</td>\n      <td>0</td>\n      <td>14102100</td>\n      <td>1005</td>\n      <td>0</td>\n      <td>1fbe01fe</td>\n      <td>f3845767</td>\n      <td>28905ebd</td>\n      <td>ecad2386</td>\n      <td>7801e8d9</td>\n      <td>...</td>\n      <td>35</td>\n      <td>100084</td>\n      <td>79</td>\n      <td>2014-10-21</td>\n      <td>2014</td>\n      <td>10</td>\n      <td>21</td>\n      <td>0</td>\n      <td>1</td>\n      <td>False</td>\n    </tr>\n    <tr>\n      <th>4</th>\n      <td>1.000068e+19</td>\n      <td>0</td>\n      <td>14102100</td>\n      <td>1005</td>\n      <td>1</td>\n      <td>fe8cc448</td>\n      <td>9166c161</td>\n      <td>0569f928</td>\n      <td>ecad2386</td>\n      <td>7801e8d9</td>\n      <td>...</td>\n      <td>35</td>\n      <td>-1</td>\n      <td>157</td>\n      <td>2014-10-21</td>\n      <td>2014</td>\n      <td>10</td>\n      <td>21</td>\n      <td>0</td>\n      <td>1</td>\n      <td>False</td>\n    </tr>\n  </tbody>\n</table>\n<p>5 rows × 31 columns</p>\n</div>"
     },
     "metadata": {},
     "execution_count": 8
    }
   ],
   "source": [
    "df.head()"
   ]
  },
  {
   "cell_type": "code",
   "execution_count": 9,
   "metadata": {},
   "outputs": [
    {
     "output_type": "execute_result",
     "data": {
      "text/plain": [
       "                  id  click      hour    C1  banner_pos   site_id site_domain  \\\n",
       "499995  1.311196e+19      0  14102103  1005           0  85f751fd    c4e18dd6   \n",
       "499996  1.311197e+19      0  14102103  1005           1  d9750ee7    98572c79   \n",
       "499997  1.311202e+19      0  14102103  1005           0  85f751fd    c4e18dd6   \n",
       "499998  1.311205e+19      0  14102103  1005           1  5b4d2eda    16a36ef3   \n",
       "499999  1.311207e+18      1  14102103  1005           0  2328ee8e    7804dea6   \n",
       "\n",
       "       site_category    app_id app_domain  ...   C19     C20  C21  \\\n",
       "499995      50e219e0  53de0284   d9b5648e  ...   299  100111   61   \n",
       "499996      f028772b  ecad2386   7801e8d9  ...  1063      -1   33   \n",
       "499997      50e219e0  e2fcccd2   5c5a694b  ...    39      -1   23   \n",
       "499998      f028772b  ecad2386   7801e8d9  ...    39  100077  157   \n",
       "499999      f028772b  ecad2386   7801e8d9  ...    39      -1   32   \n",
       "\n",
       "                   dt_hour  year  month  day  int_hour  is_weekday  is_weekend  \n",
       "499995 2014-10-21 03:00:00  2014     10   21         3           1       False  \n",
       "499996 2014-10-21 03:00:00  2014     10   21         3           1       False  \n",
       "499997 2014-10-21 03:00:00  2014     10   21         3           1       False  \n",
       "499998 2014-10-21 03:00:00  2014     10   21         3           1       False  \n",
       "499999 2014-10-21 03:00:00  2014     10   21         3           1       False  \n",
       "\n",
       "[5 rows x 31 columns]"
      ],
      "text/html": "<div>\n<style scoped>\n    .dataframe tbody tr th:only-of-type {\n        vertical-align: middle;\n    }\n\n    .dataframe tbody tr th {\n        vertical-align: top;\n    }\n\n    .dataframe thead th {\n        text-align: right;\n    }\n</style>\n<table border=\"1\" class=\"dataframe\">\n  <thead>\n    <tr style=\"text-align: right;\">\n      <th></th>\n      <th>id</th>\n      <th>click</th>\n      <th>hour</th>\n      <th>C1</th>\n      <th>banner_pos</th>\n      <th>site_id</th>\n      <th>site_domain</th>\n      <th>site_category</th>\n      <th>app_id</th>\n      <th>app_domain</th>\n      <th>...</th>\n      <th>C19</th>\n      <th>C20</th>\n      <th>C21</th>\n      <th>dt_hour</th>\n      <th>year</th>\n      <th>month</th>\n      <th>day</th>\n      <th>int_hour</th>\n      <th>is_weekday</th>\n      <th>is_weekend</th>\n    </tr>\n  </thead>\n  <tbody>\n    <tr>\n      <th>499995</th>\n      <td>1.311196e+19</td>\n      <td>0</td>\n      <td>14102103</td>\n      <td>1005</td>\n      <td>0</td>\n      <td>85f751fd</td>\n      <td>c4e18dd6</td>\n      <td>50e219e0</td>\n      <td>53de0284</td>\n      <td>d9b5648e</td>\n      <td>...</td>\n      <td>299</td>\n      <td>100111</td>\n      <td>61</td>\n      <td>2014-10-21 03:00:00</td>\n      <td>2014</td>\n      <td>10</td>\n      <td>21</td>\n      <td>3</td>\n      <td>1</td>\n      <td>False</td>\n    </tr>\n    <tr>\n      <th>499996</th>\n      <td>1.311197e+19</td>\n      <td>0</td>\n      <td>14102103</td>\n      <td>1005</td>\n      <td>1</td>\n      <td>d9750ee7</td>\n      <td>98572c79</td>\n      <td>f028772b</td>\n      <td>ecad2386</td>\n      <td>7801e8d9</td>\n      <td>...</td>\n      <td>1063</td>\n      <td>-1</td>\n      <td>33</td>\n      <td>2014-10-21 03:00:00</td>\n      <td>2014</td>\n      <td>10</td>\n      <td>21</td>\n      <td>3</td>\n      <td>1</td>\n      <td>False</td>\n    </tr>\n    <tr>\n      <th>499997</th>\n      <td>1.311202e+19</td>\n      <td>0</td>\n      <td>14102103</td>\n      <td>1005</td>\n      <td>0</td>\n      <td>85f751fd</td>\n      <td>c4e18dd6</td>\n      <td>50e219e0</td>\n      <td>e2fcccd2</td>\n      <td>5c5a694b</td>\n      <td>...</td>\n      <td>39</td>\n      <td>-1</td>\n      <td>23</td>\n      <td>2014-10-21 03:00:00</td>\n      <td>2014</td>\n      <td>10</td>\n      <td>21</td>\n      <td>3</td>\n      <td>1</td>\n      <td>False</td>\n    </tr>\n    <tr>\n      <th>499998</th>\n      <td>1.311205e+19</td>\n      <td>0</td>\n      <td>14102103</td>\n      <td>1005</td>\n      <td>1</td>\n      <td>5b4d2eda</td>\n      <td>16a36ef3</td>\n      <td>f028772b</td>\n      <td>ecad2386</td>\n      <td>7801e8d9</td>\n      <td>...</td>\n      <td>39</td>\n      <td>100077</td>\n      <td>157</td>\n      <td>2014-10-21 03:00:00</td>\n      <td>2014</td>\n      <td>10</td>\n      <td>21</td>\n      <td>3</td>\n      <td>1</td>\n      <td>False</td>\n    </tr>\n    <tr>\n      <th>499999</th>\n      <td>1.311207e+18</td>\n      <td>1</td>\n      <td>14102103</td>\n      <td>1005</td>\n      <td>0</td>\n      <td>2328ee8e</td>\n      <td>7804dea6</td>\n      <td>f028772b</td>\n      <td>ecad2386</td>\n      <td>7801e8d9</td>\n      <td>...</td>\n      <td>39</td>\n      <td>-1</td>\n      <td>32</td>\n      <td>2014-10-21 03:00:00</td>\n      <td>2014</td>\n      <td>10</td>\n      <td>21</td>\n      <td>3</td>\n      <td>1</td>\n      <td>False</td>\n    </tr>\n  </tbody>\n</table>\n<p>5 rows × 31 columns</p>\n</div>"
     },
     "metadata": {},
     "execution_count": 9
    }
   ],
   "source": [
    "df.tail()"
   ]
  },
  {
   "cell_type": "code",
   "execution_count": 10,
   "metadata": {},
   "outputs": [
    {
     "output_type": "execute_result",
     "data": {
      "text/plain": [
       "                 id          click          hour             C1  \\\n",
       "count  5.000000e+05  500000.000000  5.000000e+05  500000.000000   \n",
       "mean   9.314806e+18       0.164074  1.410210e+07    1005.034018   \n",
       "std    5.213424e+18       0.370343  9.156416e-01       0.966678   \n",
       "min    9.984920e+12       0.000000  1.410210e+07    1001.000000   \n",
       "25%    4.828050e+18       0.000000  1.410210e+07    1005.000000   \n",
       "50%    9.794425e+18       0.000000  1.410210e+07    1005.000000   \n",
       "75%    1.347337e+19       0.000000  1.410210e+07    1005.000000   \n",
       "max    1.844670e+19       1.000000  1.410210e+07    1012.000000   \n",
       "\n",
       "          banner_pos    device_type  device_conn_type            C14  \\\n",
       "count  500000.000000  500000.000000     500000.000000  500000.000000   \n",
       "mean        0.217276       1.036694          0.223636   18193.167466   \n",
       "std         0.443134       0.489694          0.669603    3343.557221   \n",
       "min         0.000000       0.000000          0.000000     375.000000   \n",
       "25%         0.000000       1.000000          0.000000   15706.000000   \n",
       "50%         0.000000       1.000000          0.000000   18993.000000   \n",
       "75%         0.000000       1.000000          0.000000   20632.000000   \n",
       "max         7.000000       5.000000          5.000000   21705.000000   \n",
       "\n",
       "                 C15            C16            C17            C18  \\\n",
       "count  500000.000000  500000.000000  500000.000000  500000.000000   \n",
       "mean      319.183992      56.561368    2031.632062       1.109156   \n",
       "std        21.037074      36.185037     417.213802       1.277892   \n",
       "min       120.000000      20.000000     112.000000       0.000000   \n",
       "25%       320.000000      50.000000    1722.000000       0.000000   \n",
       "50%       320.000000      50.000000    2161.000000       0.000000   \n",
       "75%       320.000000      50.000000    2351.000000       3.000000   \n",
       "max      1024.000000    1024.000000    2497.000000       3.000000   \n",
       "\n",
       "                 C19            C20            C21      year     month  \\\n",
       "count  500000.000000  500000.000000  500000.000000  500000.0  500000.0   \n",
       "mean      201.528508   42639.887130      74.050944    2014.0      10.0   \n",
       "std       273.749184   49497.494455      40.835674       0.0       0.0   \n",
       "min        33.000000      -1.000000      13.000000    2014.0      10.0   \n",
       "25%        35.000000      -1.000000      48.000000    2014.0      10.0   \n",
       "50%        39.000000      -1.000000      61.000000    2014.0      10.0   \n",
       "75%       297.000000  100084.000000      79.000000    2014.0      10.0   \n",
       "max      1835.000000  100248.000000     195.000000    2014.0      10.0   \n",
       "\n",
       "            day       int_hour  is_weekday  \n",
       "count  500000.0  500000.000000    500000.0  \n",
       "mean       21.0       1.321254         1.0  \n",
       "std         0.0       0.915642         0.0  \n",
       "min        21.0       0.000000         1.0  \n",
       "25%        21.0       1.000000         1.0  \n",
       "50%        21.0       1.000000         1.0  \n",
       "75%        21.0       2.000000         1.0  \n",
       "max        21.0       3.000000         1.0  "
      ],
      "text/html": "<div>\n<style scoped>\n    .dataframe tbody tr th:only-of-type {\n        vertical-align: middle;\n    }\n\n    .dataframe tbody tr th {\n        vertical-align: top;\n    }\n\n    .dataframe thead th {\n        text-align: right;\n    }\n</style>\n<table border=\"1\" class=\"dataframe\">\n  <thead>\n    <tr style=\"text-align: right;\">\n      <th></th>\n      <th>id</th>\n      <th>click</th>\n      <th>hour</th>\n      <th>C1</th>\n      <th>banner_pos</th>\n      <th>device_type</th>\n      <th>device_conn_type</th>\n      <th>C14</th>\n      <th>C15</th>\n      <th>C16</th>\n      <th>C17</th>\n      <th>C18</th>\n      <th>C19</th>\n      <th>C20</th>\n      <th>C21</th>\n      <th>year</th>\n      <th>month</th>\n      <th>day</th>\n      <th>int_hour</th>\n      <th>is_weekday</th>\n    </tr>\n  </thead>\n  <tbody>\n    <tr>\n      <th>count</th>\n      <td>5.000000e+05</td>\n      <td>500000.000000</td>\n      <td>5.000000e+05</td>\n      <td>500000.000000</td>\n      <td>500000.000000</td>\n      <td>500000.000000</td>\n      <td>500000.000000</td>\n      <td>500000.000000</td>\n      <td>500000.000000</td>\n      <td>500000.000000</td>\n      <td>500000.000000</td>\n      <td>500000.000000</td>\n      <td>500000.000000</td>\n      <td>500000.000000</td>\n      <td>500000.000000</td>\n      <td>500000.0</td>\n      <td>500000.0</td>\n      <td>500000.0</td>\n      <td>500000.000000</td>\n      <td>500000.0</td>\n    </tr>\n    <tr>\n      <th>mean</th>\n      <td>9.314806e+18</td>\n      <td>0.164074</td>\n      <td>1.410210e+07</td>\n      <td>1005.034018</td>\n      <td>0.217276</td>\n      <td>1.036694</td>\n      <td>0.223636</td>\n      <td>18193.167466</td>\n      <td>319.183992</td>\n      <td>56.561368</td>\n      <td>2031.632062</td>\n      <td>1.109156</td>\n      <td>201.528508</td>\n      <td>42639.887130</td>\n      <td>74.050944</td>\n      <td>2014.0</td>\n      <td>10.0</td>\n      <td>21.0</td>\n      <td>1.321254</td>\n      <td>1.0</td>\n    </tr>\n    <tr>\n      <th>std</th>\n      <td>5.213424e+18</td>\n      <td>0.370343</td>\n      <td>9.156416e-01</td>\n      <td>0.966678</td>\n      <td>0.443134</td>\n      <td>0.489694</td>\n      <td>0.669603</td>\n      <td>3343.557221</td>\n      <td>21.037074</td>\n      <td>36.185037</td>\n      <td>417.213802</td>\n      <td>1.277892</td>\n      <td>273.749184</td>\n      <td>49497.494455</td>\n      <td>40.835674</td>\n      <td>0.0</td>\n      <td>0.0</td>\n      <td>0.0</td>\n      <td>0.915642</td>\n      <td>0.0</td>\n    </tr>\n    <tr>\n      <th>min</th>\n      <td>9.984920e+12</td>\n      <td>0.000000</td>\n      <td>1.410210e+07</td>\n      <td>1001.000000</td>\n      <td>0.000000</td>\n      <td>0.000000</td>\n      <td>0.000000</td>\n      <td>375.000000</td>\n      <td>120.000000</td>\n      <td>20.000000</td>\n      <td>112.000000</td>\n      <td>0.000000</td>\n      <td>33.000000</td>\n      <td>-1.000000</td>\n      <td>13.000000</td>\n      <td>2014.0</td>\n      <td>10.0</td>\n      <td>21.0</td>\n      <td>0.000000</td>\n      <td>1.0</td>\n    </tr>\n    <tr>\n      <th>25%</th>\n      <td>4.828050e+18</td>\n      <td>0.000000</td>\n      <td>1.410210e+07</td>\n      <td>1005.000000</td>\n      <td>0.000000</td>\n      <td>1.000000</td>\n      <td>0.000000</td>\n      <td>15706.000000</td>\n      <td>320.000000</td>\n      <td>50.000000</td>\n      <td>1722.000000</td>\n      <td>0.000000</td>\n      <td>35.000000</td>\n      <td>-1.000000</td>\n      <td>48.000000</td>\n      <td>2014.0</td>\n      <td>10.0</td>\n      <td>21.0</td>\n      <td>1.000000</td>\n      <td>1.0</td>\n    </tr>\n    <tr>\n      <th>50%</th>\n      <td>9.794425e+18</td>\n      <td>0.000000</td>\n      <td>1.410210e+07</td>\n      <td>1005.000000</td>\n      <td>0.000000</td>\n      <td>1.000000</td>\n      <td>0.000000</td>\n      <td>18993.000000</td>\n      <td>320.000000</td>\n      <td>50.000000</td>\n      <td>2161.000000</td>\n      <td>0.000000</td>\n      <td>39.000000</td>\n      <td>-1.000000</td>\n      <td>61.000000</td>\n      <td>2014.0</td>\n      <td>10.0</td>\n      <td>21.0</td>\n      <td>1.000000</td>\n      <td>1.0</td>\n    </tr>\n    <tr>\n      <th>75%</th>\n      <td>1.347337e+19</td>\n      <td>0.000000</td>\n      <td>1.410210e+07</td>\n      <td>1005.000000</td>\n      <td>0.000000</td>\n      <td>1.000000</td>\n      <td>0.000000</td>\n      <td>20632.000000</td>\n      <td>320.000000</td>\n      <td>50.000000</td>\n      <td>2351.000000</td>\n      <td>3.000000</td>\n      <td>297.000000</td>\n      <td>100084.000000</td>\n      <td>79.000000</td>\n      <td>2014.0</td>\n      <td>10.0</td>\n      <td>21.0</td>\n      <td>2.000000</td>\n      <td>1.0</td>\n    </tr>\n    <tr>\n      <th>max</th>\n      <td>1.844670e+19</td>\n      <td>1.000000</td>\n      <td>1.410210e+07</td>\n      <td>1012.000000</td>\n      <td>7.000000</td>\n      <td>5.000000</td>\n      <td>5.000000</td>\n      <td>21705.000000</td>\n      <td>1024.000000</td>\n      <td>1024.000000</td>\n      <td>2497.000000</td>\n      <td>3.000000</td>\n      <td>1835.000000</td>\n      <td>100248.000000</td>\n      <td>195.000000</td>\n      <td>2014.0</td>\n      <td>10.0</td>\n      <td>21.0</td>\n      <td>3.000000</td>\n      <td>1.0</td>\n    </tr>\n  </tbody>\n</table>\n</div>"
     },
     "metadata": {},
     "execution_count": 10
    }
   ],
   "source": [
    "df.describe()"
   ]
  },
  {
   "cell_type": "code",
   "execution_count": 11,
   "metadata": {},
   "outputs": [
    {
     "output_type": "stream",
     "name": "stdout",
     "text": [
      "<class 'pandas.core.frame.DataFrame'>\nInt64Index: 500000 entries, 0 to 499999\nData columns (total 31 columns):\n #   Column            Non-Null Count   Dtype         \n---  ------            --------------   -----         \n 0   id                500000 non-null  float64       \n 1   click             500000 non-null  int64         \n 2   hour              500000 non-null  int64         \n 3   C1                500000 non-null  int64         \n 4   banner_pos        500000 non-null  int64         \n 5   site_id           500000 non-null  object        \n 6   site_domain       500000 non-null  object        \n 7   site_category     500000 non-null  object        \n 8   app_id            500000 non-null  object        \n 9   app_domain        500000 non-null  object        \n 10  app_category      500000 non-null  object        \n 11  device_id         500000 non-null  object        \n 12  device_ip         500000 non-null  object        \n 13  device_model      500000 non-null  object        \n 14  device_type       500000 non-null  int64         \n 15  device_conn_type  500000 non-null  int64         \n 16  C14               500000 non-null  int64         \n 17  C15               500000 non-null  int64         \n 18  C16               500000 non-null  int64         \n 19  C17               500000 non-null  int64         \n 20  C18               500000 non-null  int64         \n 21  C19               500000 non-null  int64         \n 22  C20               500000 non-null  int64         \n 23  C21               500000 non-null  int64         \n 24  dt_hour           500000 non-null  datetime64[ns]\n 25  year              500000 non-null  int64         \n 26  month             500000 non-null  int64         \n 27  day               500000 non-null  int64         \n 28  int_hour          500000 non-null  int64         \n 29  is_weekday        500000 non-null  int64         \n 30  is_weekend        500000 non-null  bool          \ndtypes: bool(1), datetime64[ns](1), float64(1), int64(19), object(9)\nmemory usage: 118.7+ MB\n"
     ]
    }
   ],
   "source": [
    "df.info()"
   ]
  },
  {
   "cell_type": "code",
   "execution_count": 12,
   "metadata": {},
   "outputs": [
    {
     "output_type": "execute_result",
     "data": {
      "text/plain": [
       "Index(['id', 'click', 'hour', 'C1', 'banner_pos', 'site_id', 'site_domain',\n",
       "       'site_category', 'app_id', 'app_domain', 'app_category', 'device_id',\n",
       "       'device_ip', 'device_model', 'device_type', 'device_conn_type', 'C14',\n",
       "       'C15', 'C16', 'C17', 'C18', 'C19', 'C20', 'C21', 'dt_hour', 'year',\n",
       "       'month', 'day', 'int_hour', 'is_weekday', 'is_weekend'],\n",
       "      dtype='object')"
      ]
     },
     "metadata": {},
     "execution_count": 12
    }
   ],
   "source": [
    "df.columns"
   ]
  },
  {
   "source": [
    "### Label Encoding"
   ],
   "cell_type": "markdown",
   "metadata": {}
  },
  {
   "cell_type": "code",
   "execution_count": 13,
   "metadata": {},
   "outputs": [],
   "source": [
    "label_col = \"click\"\n",
    "x_columns = set(list(df.columns)) - set([\"id\", \"site_id\", \"app_id\", \"hour\", \"dt_hour\", \"device_id\", \"device_ip\", ] + [label_col] )"
   ]
  },
  {
   "cell_type": "code",
   "execution_count": 14,
   "metadata": {},
   "outputs": [],
   "source": [
    "x_train = df[x_columns]\n",
    "y_train = df[label_col]"
   ]
  },
  {
   "cell_type": "code",
   "execution_count": 15,
   "metadata": {},
   "outputs": [
    {
     "output_type": "execute_result",
     "data": {
      "text/plain": [
       "   C1  C19  is_weekend  int_hour  month  is_weekday  app_category  year  C17  \\\n",
       "0   2    1           0         0      0           0             0     0   40   \n",
       "1   2    1           0         0      0           0             0     0   40   \n",
       "2   2    1           0         0      0           0             0     0   40   \n",
       "3   2    1           0         0      0           0             0     0   40   \n",
       "4   2    1           0         0      0           0             0     0   79   \n",
       "\n",
       "   C16  ...  device_type  device_conn_type  day  C20  C14  app_domain  \\\n",
       "0    2  ...            1                 1    0    0  162          62   \n",
       "1    2  ...            1                 0    0   60  160          62   \n",
       "2    2  ...            1                 0    0   60  160          62   \n",
       "3    2  ...            1                 0    0   60  162          62   \n",
       "4    2  ...            1                 0    0    0  256          62   \n",
       "\n",
       "   site_category  banner_pos  C18  site_domain  \n",
       "0              2           0    0         1503  \n",
       "1              2           0    0         1503  \n",
       "2              2           0    0         1503  \n",
       "3              2           0    0         1503  \n",
       "4              0           1    0          910  \n",
       "\n",
       "[5 rows x 23 columns]"
      ],
      "text/html": "<div>\n<style scoped>\n    .dataframe tbody tr th:only-of-type {\n        vertical-align: middle;\n    }\n\n    .dataframe tbody tr th {\n        vertical-align: top;\n    }\n\n    .dataframe thead th {\n        text-align: right;\n    }\n</style>\n<table border=\"1\" class=\"dataframe\">\n  <thead>\n    <tr style=\"text-align: right;\">\n      <th></th>\n      <th>C1</th>\n      <th>C19</th>\n      <th>is_weekend</th>\n      <th>int_hour</th>\n      <th>month</th>\n      <th>is_weekday</th>\n      <th>app_category</th>\n      <th>year</th>\n      <th>C17</th>\n      <th>C16</th>\n      <th>...</th>\n      <th>device_type</th>\n      <th>device_conn_type</th>\n      <th>day</th>\n      <th>C20</th>\n      <th>C14</th>\n      <th>app_domain</th>\n      <th>site_category</th>\n      <th>banner_pos</th>\n      <th>C18</th>\n      <th>site_domain</th>\n    </tr>\n  </thead>\n  <tbody>\n    <tr>\n      <th>0</th>\n      <td>2</td>\n      <td>1</td>\n      <td>0</td>\n      <td>0</td>\n      <td>0</td>\n      <td>0</td>\n      <td>0</td>\n      <td>0</td>\n      <td>40</td>\n      <td>2</td>\n      <td>...</td>\n      <td>1</td>\n      <td>1</td>\n      <td>0</td>\n      <td>0</td>\n      <td>162</td>\n      <td>62</td>\n      <td>2</td>\n      <td>0</td>\n      <td>0</td>\n      <td>1503</td>\n    </tr>\n    <tr>\n      <th>1</th>\n      <td>2</td>\n      <td>1</td>\n      <td>0</td>\n      <td>0</td>\n      <td>0</td>\n      <td>0</td>\n      <td>0</td>\n      <td>0</td>\n      <td>40</td>\n      <td>2</td>\n      <td>...</td>\n      <td>1</td>\n      <td>0</td>\n      <td>0</td>\n      <td>60</td>\n      <td>160</td>\n      <td>62</td>\n      <td>2</td>\n      <td>0</td>\n      <td>0</td>\n      <td>1503</td>\n    </tr>\n    <tr>\n      <th>2</th>\n      <td>2</td>\n      <td>1</td>\n      <td>0</td>\n      <td>0</td>\n      <td>0</td>\n      <td>0</td>\n      <td>0</td>\n      <td>0</td>\n      <td>40</td>\n      <td>2</td>\n      <td>...</td>\n      <td>1</td>\n      <td>0</td>\n      <td>0</td>\n      <td>60</td>\n      <td>160</td>\n      <td>62</td>\n      <td>2</td>\n      <td>0</td>\n      <td>0</td>\n      <td>1503</td>\n    </tr>\n    <tr>\n      <th>3</th>\n      <td>2</td>\n      <td>1</td>\n      <td>0</td>\n      <td>0</td>\n      <td>0</td>\n      <td>0</td>\n      <td>0</td>\n      <td>0</td>\n      <td>40</td>\n      <td>2</td>\n      <td>...</td>\n      <td>1</td>\n      <td>0</td>\n      <td>0</td>\n      <td>60</td>\n      <td>162</td>\n      <td>62</td>\n      <td>2</td>\n      <td>0</td>\n      <td>0</td>\n      <td>1503</td>\n    </tr>\n    <tr>\n      <th>4</th>\n      <td>2</td>\n      <td>1</td>\n      <td>0</td>\n      <td>0</td>\n      <td>0</td>\n      <td>0</td>\n      <td>0</td>\n      <td>0</td>\n      <td>79</td>\n      <td>2</td>\n      <td>...</td>\n      <td>1</td>\n      <td>0</td>\n      <td>0</td>\n      <td>0</td>\n      <td>256</td>\n      <td>62</td>\n      <td>0</td>\n      <td>1</td>\n      <td>0</td>\n      <td>910</td>\n    </tr>\n  </tbody>\n</table>\n<p>5 rows × 23 columns</p>\n</div>"
     },
     "metadata": {},
     "execution_count": 15
    }
   ],
   "source": [
    "from collections import defaultdict\n",
    "from sklearn.preprocessing import LabelEncoder\n",
    "\n",
    "\n",
    "x_train_len = len(x_train)\n",
    "d = defaultdict(LabelEncoder)\n",
    "n_df = x_train.apply(lambda x: d[x.name].fit_transform(x))\n",
    "n_df.head()"
   ]
  },
  {
   "cell_type": "code",
   "execution_count": 16,
   "metadata": {},
   "outputs": [
    {
     "output_type": "execute_result",
     "data": {
      "text/plain": [
       "Index(['C1', 'C19', 'is_weekend', 'int_hour', 'month', 'is_weekday',\n",
       "       'app_category', 'year', 'C17', 'C16', 'device_model', 'C15', 'C21',\n",
       "       'device_type', 'device_conn_type', 'day', 'C20', 'C14', 'app_domain',\n",
       "       'site_category', 'banner_pos', 'C18', 'site_domain'],\n",
       "      dtype='object')"
      ]
     },
     "metadata": {},
     "execution_count": 16
    }
   ],
   "source": [
    "n_df.columns"
   ]
  },
  {
   "cell_type": "code",
   "execution_count": 17,
   "metadata": {},
   "outputs": [],
   "source": [
    "X = n_df\n",
    "y = df['click']\n"
   ]
  },
  {
   "source": [
    "## Training Logistic Regression Model"
   ],
   "cell_type": "markdown",
   "metadata": {}
  },
  {
   "cell_type": "code",
   "execution_count": 22,
   "metadata": {},
   "outputs": [],
   "source": [
    "from sklearn.model_selection import train_test_split\n",
    "from sklearn.tree import DecisionTreeClassifier\n",
    "from sklearn.metrics import classification_report\n",
    "from sklearn.metrics import accuracy_score\n",
    "from sklearn.metrics import confusion_matrix\n"
   ]
  },
  {
   "cell_type": "code",
   "execution_count": 23,
   "metadata": {},
   "outputs": [],
   "source": [
    "X_train, X_test, y_train, y_test = train_test_split(X, y, test_size = 0.2)"
   ]
  },
  {
   "cell_type": "code",
   "execution_count": 24,
   "metadata": {},
   "outputs": [
    {
     "output_type": "execute_result",
     "data": {
      "text/plain": [
       "DecisionTreeClassifier(criterion='entropy')"
      ]
     },
     "metadata": {},
     "execution_count": 24
    }
   ],
   "source": [
    "model=DecisionTreeClassifier(criterion='entropy')\n",
    "model.fit(X_train,y_train)"
   ]
  },
  {
   "cell_type": "code",
   "execution_count": 25,
   "metadata": {},
   "outputs": [],
   "source": [
    "predictions = model.predict(X_test)"
   ]
  },
  {
   "cell_type": "code",
   "execution_count": 26,
   "metadata": {},
   "outputs": [
    {
     "output_type": "stream",
     "name": "stdout",
     "text": [
      "report:\n              precision    recall  f1-score   support\n\n           0       0.86      0.94      0.90     83617\n           1       0.40      0.19      0.26     16383\n\n    accuracy                           0.82    100000\n   macro avg       0.63      0.57      0.58    100000\nweighted avg       0.78      0.82      0.79    100000\n\n"
     ]
    }
   ],
   "source": [
    "report = classification_report(y_test, predictions)\n",
    "print('report:', report, sep='\\n')"
   ]
  },
  {
   "cell_type": "code",
   "execution_count": 27,
   "metadata": {},
   "outputs": [
    {
     "output_type": "execute_result",
     "data": {
      "text/plain": [
       "array([[79006,  4611],\n",
       "       [13284,  3099]], dtype=int64)"
      ]
     },
     "metadata": {},
     "execution_count": 27
    }
   ],
   "source": [
    "confusion_matrix(y_test, predictions)"
   ]
  },
  {
   "cell_type": "code",
   "execution_count": 28,
   "metadata": {},
   "outputs": [
    {
     "output_type": "execute_result",
     "data": {
      "text/plain": [
       "0.82105"
      ]
     },
     "metadata": {},
     "execution_count": 28
    }
   ],
   "source": [
    "accuracy_score(y_test, predictions)"
   ]
  },
  {
   "source": [
    "## We can observe that our Decision Tree Model has an accuracy score of 82.10%. Our model can give the correct results 82 times for every 100 tests. "
   ],
   "cell_type": "markdown",
   "metadata": {}
  },
  {
   "cell_type": "code",
   "execution_count": 29,
   "metadata": {},
   "outputs": [
    {
     "output_type": "execute_result",
     "data": {
      "text/plain": [
       "array([[0.66666667, 0.33333333],\n",
       "       [0.72972973, 0.27027027],\n",
       "       [1.        , 0.        ],\n",
       "       ...,\n",
       "       [0.66666667, 0.33333333],\n",
       "       [0.95      , 0.05      ],\n",
       "       [0.88297872, 0.11702128]])"
      ]
     },
     "metadata": {},
     "execution_count": 29
    }
   ],
   "source": [
    "model.predict_proba(X_train)"
   ]
  },
  {
   "cell_type": "code",
   "execution_count": null,
   "metadata": {},
   "outputs": [],
   "source": []
  }
 ]
}